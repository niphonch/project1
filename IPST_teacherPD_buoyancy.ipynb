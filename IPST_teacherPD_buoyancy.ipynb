{
  "cells": [
    {
      "cell_type": "markdown",
      "id": "2c4d2a4a",
      "metadata": {
        "id": "2c4d2a4a"
      },
      "source": [
        "# Project - Data Science\n",
        "![DS_steps.png](DS_steps.png)"
      ]
    },
    {
      "cell_type": "markdown",
      "id": "5ea71e33",
      "metadata": {
        "id": "5ea71e33"
      },
      "source": [
        "## Fullname (nickname): Niphon Chanlen (Bird)\n"
      ]
    },
    {
      "cell_type": "markdown",
      "id": "ebdddc20",
      "metadata": {
        "id": "ebdddc20"
      },
      "source": [
        "## Project Topic: Online Teacher Professional Development about Buoancy: Who succeeded, Who failed and Did it work?"
      ]
    },
    {
      "cell_type": "markdown",
      "id": "72634ac4",
      "metadata": {
        "id": "72634ac4"
      },
      "source": [
        "---\n",
        "## Current Situation / Problem Statement\n",
        "\n",
        "1. Less than 50% of registered teachers completed the self-pace online course about buoyancy. Who are the teacher who did and did not complete the course? How can we increase the retention and successful rate?\n",
        "2. Does the course really help teachers improve in their content knowledge and self-efficacy?\n",
        "\n",
        "\n",
        "\n",
        "\n",
        "\n"
      ]
    },
    {
      "cell_type": "markdown",
      "id": "e25a6d8b",
      "metadata": {
        "id": "e25a6d8b"
      },
      "source": [
        "## Objectives:\n",
        "The insights and recoomendation from this study might help the course instructors improve the course design so to help maintain the retention and successful rate of teachers who are at risk. "
      ]
    },
    {
      "cell_type": "markdown",
      "id": "ef56e2c7",
      "metadata": {
        "id": "ef56e2c7"
      },
      "source": [
        "## Hypothesis-driven Questions:\n",
        "\n",
        "1. Do teachers who completed and did not the course have different demographic e.g. gender, education level, teaching level, teaching experience ?\n",
        "2. Do teacher’s prior content knowledge and self-efficacy affect their completion of the course?\n",
        "3. Do teachers’ content knowledge and self-efficacy improve after class completion? \n",
        "\n",
        "\n"
      ]
    },
    {
      "cell_type": "markdown",
      "id": "b8fc8d22",
      "metadata": {
        "id": "b8fc8d22"
      },
      "source": [
        "## Dataset:\n",
        "There are 2 main datasets\n",
        "# 1. Teachers' background infomation: 'buoyancy_teacher_info.xlsx'\n",
        "  1.1 Username\n",
        "  1.2 EdBackground(educational background major)\n",
        "  1.3 Phys_major (has physics major?)\n",
        "  1.4 Teach_exp (number of years in teaching experience)\n",
        "  1.5 EdLevel (highest educational background recieved)\n",
        "  1.6 Teach_sub_gensci (teach general scinece?)\n",
        "  1.7 ระดับชั้นที่สอน (grade level of teaching)\n",
        "  1.8 Teach_level (level of teaching)\n",
        "  1.9 M2_teacher (teach grade 8?) \n",
        "# 2. Teachers' test score : buoyancy_teacher_score.xlsx\n",
        "  2.1 Username\n",
        "  2.2 pretest_concept (pretest scores in buoyancy)\n",
        "  2.3 pre_selfefficacy ( pretest scores in self efficacy questionaire)\n",
        "  2.4 posttest_concept (posttest scores in buoyancy)\n",
        "  2.5 posttest_noitem  (number of submiited items in posttest)\n",
        "  2.5 post_selfefficacy ( posttest scores in self efficacy questionaire)"
      ]
    },
    {
      "cell_type": "code",
      "execution_count": null,
      "id": "ea5e1491",
      "metadata": {
        "id": "ea5e1491",
        "colab": {
          "base_uri": "https://localhost:8080/",
          "height": 52
        },
        "outputId": "1666f5d5-a4d0-49f6-8aa5-46e44c5ef300"
      },
      "outputs": [
        {
          "output_type": "stream",
          "name": "stdout",
          "text": [
            "Drive already mounted at /content/gdrive; to attempt to forcibly remount, call drive.mount(\"/content/gdrive\", force_remount=True).\n"
          ]
        },
        {
          "output_type": "execute_result",
          "data": {
            "text/plain": [
              "'/content/gdrive/MyDrive/Colab Notebooks/PYT06/Day 4'"
            ],
            "application/vnd.google.colaboratory.intrinsic+json": {
              "type": "string"
            }
          },
          "metadata": {},
          "execution_count": 22
        }
      ],
      "source": [
        "#connect GGD\n",
        "import os\n",
        "from google.colab import drive\n",
        "\n",
        "drive.mount(\"/content/gdrive\")\n",
        "\n",
        "root_path = r\"/content/gdrive/MyDrive/Colab Notebooks/PYT06/Day 4\" #Colab Notebooks is a folder in Google drive\n",
        "os.chdir(root_path)\n",
        "os.getcwd()\n"
      ]
    },
    {
      "cell_type": "code",
      "source": [
        "import pandas as pd\n",
        "import numpy as np\n",
        "import matplotlib.pyplot as plt\n",
        "import seaborn as sns\n",
        "from scipy.stats import ttest_ind\n",
        "!pip install matplotlib\n",
        "#import files\n",
        "df_info = pd.read_excel('buoyancy_teacher_info.xlsx')\n",
        "df_score = pd.read_excel('buoyancy_teacher_score.xlsx')\n",
        "#Checking heading\n",
        "print(df_info.head())\n",
        "print(\"---------------------\")\n",
        "print(df_score.head())"
      ],
      "metadata": {
        "colab": {
          "base_uri": "https://localhost:8080/"
        },
        "id": "VbKY46p4WoAg",
        "outputId": "c48a8d75-f137-4219-8d30-a1cc94793f6f"
      },
      "id": "VbKY46p4WoAg",
      "execution_count": null,
      "outputs": [
        {
          "output_type": "stream",
          "name": "stdout",
          "text": [
            "Looking in indexes: https://pypi.org/simple, https://us-python.pkg.dev/colab-wheels/public/simple/\n",
            "Requirement already satisfied: matplotlib in /usr/local/lib/python3.7/dist-packages (3.2.2)\n",
            "Requirement already satisfied: cycler>=0.10 in /usr/local/lib/python3.7/dist-packages (from matplotlib) (0.11.0)\n",
            "Requirement already satisfied: python-dateutil>=2.1 in /usr/local/lib/python3.7/dist-packages (from matplotlib) (2.8.2)\n",
            "Requirement already satisfied: numpy>=1.11 in /usr/local/lib/python3.7/dist-packages (from matplotlib) (1.21.6)\n",
            "Requirement already satisfied: pyparsing!=2.0.4,!=2.1.2,!=2.1.6,>=2.0.1 in /usr/local/lib/python3.7/dist-packages (from matplotlib) (3.0.9)\n",
            "Requirement already satisfied: kiwisolver>=1.0.1 in /usr/local/lib/python3.7/dist-packages (from matplotlib) (1.4.4)\n",
            "Requirement already satisfied: typing-extensions in /usr/local/lib/python3.7/dist-packages (from kiwisolver>=1.0.1->matplotlib) (4.1.1)\n",
            "Requirement already satisfied: six>=1.5 in /usr/local/lib/python3.7/dist-packages (from python-dateutil>=2.1->matplotlib) (1.15.0)\n",
            "        Username  EdBackground_code EdBackground Phys_major   Teach_exp  \\\n",
            "0     wansa_IPST                  3     Engineer        Yes         0-5   \n",
            "1  3340400134073                  4    Sci other         No  มากกว่า 20   \n",
            "2            yod                  4    Sci other         No        6-10   \n",
            "3            fai                  3     Engineer        Yes        6-10   \n",
            "4       Nutchaya                  6    Ed nonsci         No       11-15   \n",
            "\n",
            "     EdLevel Teach_sub_gensci     ระดับชั้นที่สอน      Teach_level M2_teacher  \n",
            "0     Master               No              อื่น ๆ            Other         No  \n",
            "1     Master              Yes  ป.6, ม.1, ม.2, ม.3  lower secondary        Yes  \n",
            "2  Bachelor               Yes                 ม.1  lower secondary         No  \n",
            "3  Bachelor               Yes       ป.4, ป.5, ป.6          Primary         No  \n",
            "4     Master              Yes       ป.4, ป.5, ป.6          Primary         No  \n",
            "---------------------\n",
            "        Username  pretest_concept  posttest_noitem  posttest_concept  \\\n",
            "0     wansa_IPST              8.0              3.0               2.0   \n",
            "1  3340400134073              5.0              NaN              14.0   \n",
            "2            yod              5.0              NaN               NaN   \n",
            "3            fai              5.0              3.0               1.0   \n",
            "4       Nutchaya              5.0             17.0              15.0   \n",
            "\n",
            "   pre_selfefficacy  post_selfefficacy  \n",
            "0              56.0                NaN  \n",
            "1              58.0               57.0  \n",
            "2              53.0                NaN  \n",
            "3              63.0                NaN  \n",
            "4              71.0               76.0  \n"
          ]
        }
      ]
    },
    {
      "cell_type": "markdown",
      "source": [
        "# Asking the first hypothesis-driven questions"
      ],
      "metadata": {
        "id": "YgCAydm7HyCa"
      },
      "id": "YgCAydm7HyCa"
    },
    {
      "cell_type": "markdown",
      "id": "96dd4024",
      "metadata": {
        "id": "96dd4024"
      },
      "source": [
        "\n",
        "## Data Preparation (Data Cleaning):\n"
      ]
    },
    {
      "cell_type": "markdown",
      "id": "80b3ab86",
      "metadata": {
        "id": "80b3ab86"
      },
      "source": [
        "Description...\n",
        "1. Merge 2 dataset by matching Username \n",
        "2. Explore dataset and check for null value\n",
        "3. Drop unwanted columns\n",
        "4. Drop null values"
      ]
    },
    {
      "cell_type": "markdown",
      "id": "c0bf49de",
      "metadata": {
        "id": "c0bf49de"
      },
      "source": [
        "#### Section 1 : Merge 2 dataset by matching Username\n",
        "\n",
        "\n",
        "\n"
      ]
    },
    {
      "cell_type": "code",
      "execution_count": null,
      "id": "f9822100",
      "metadata": {
        "id": "f9822100"
      },
      "outputs": [],
      "source": [
        "df = df_info.merge(df_score, how='left', on='Username')"
      ]
    },
    {
      "cell_type": "markdown",
      "id": "47cfbba0",
      "metadata": {
        "id": "47cfbba0"
      },
      "source": [
        "#### Section 2 : Explore dataset and check for null value"
      ]
    },
    {
      "cell_type": "code",
      "execution_count": null,
      "id": "e64e90f9",
      "metadata": {
        "id": "e64e90f9",
        "colab": {
          "base_uri": "https://localhost:8080/"
        },
        "outputId": "fed5dd4b-ceb4-4bec-a340-66a88728b1d9"
      },
      "outputs": [
        {
          "output_type": "stream",
          "name": "stdout",
          "text": [
            "        Username  EdBackground_code EdBackground Phys_major   Teach_exp  \\\n",
            "0     wansa_IPST                  3     Engineer        Yes         0-5   \n",
            "1  3340400134073                  4    Sci other         No  มากกว่า 20   \n",
            "2            yod                  4    Sci other         No        6-10   \n",
            "3            fai                  3     Engineer        Yes        6-10   \n",
            "4       Nutchaya                  6    Ed nonsci         No       11-15   \n",
            "\n",
            "     EdLevel Teach_sub_gensci     ระดับชั้นที่สอน      Teach_level M2_teacher  \\\n",
            "0     Master               No              อื่น ๆ            Other         No   \n",
            "1     Master              Yes  ป.6, ม.1, ม.2, ม.3  lower secondary        Yes   \n",
            "2  Bachelor               Yes                 ม.1  lower secondary         No   \n",
            "3  Bachelor               Yes       ป.4, ป.5, ป.6          Primary         No   \n",
            "4     Master              Yes       ป.4, ป.5, ป.6          Primary         No   \n",
            "\n",
            "   pretest_concept  posttest_noitem  posttest_concept  pre_selfefficacy  \\\n",
            "0              8.0              3.0               2.0              56.0   \n",
            "1              5.0              NaN              14.0              58.0   \n",
            "2              5.0              NaN               NaN              53.0   \n",
            "3              5.0              3.0               1.0              63.0   \n",
            "4              5.0             17.0              15.0              71.0   \n",
            "\n",
            "   post_selfefficacy  \n",
            "0                NaN  \n",
            "1               57.0  \n",
            "2                NaN  \n",
            "3                NaN  \n",
            "4               76.0  \n",
            "---------------------\n",
            "(696, 15)\n",
            "---------------------\n",
            "<class 'pandas.core.frame.DataFrame'>\n",
            "Int64Index: 696 entries, 0 to 695\n",
            "Data columns (total 15 columns):\n",
            " #   Column             Non-Null Count  Dtype  \n",
            "---  ------             --------------  -----  \n",
            " 0   Username           696 non-null    object \n",
            " 1   EdBackground_code  696 non-null    int64  \n",
            " 2   EdBackground       696 non-null    object \n",
            " 3   Phys_major         696 non-null    object \n",
            " 4   Teach_exp          691 non-null    object \n",
            " 5   EdLevel            696 non-null    object \n",
            " 6   Teach_sub_gensci   696 non-null    object \n",
            " 7   ระดับชั้นที่สอน    696 non-null    object \n",
            " 8   Teach_level        696 non-null    object \n",
            " 9   M2_teacher         696 non-null    object \n",
            " 10  pretest_concept    635 non-null    float64\n",
            " 11  posttest_noitem    555 non-null    float64\n",
            " 12  posttest_concept   572 non-null    float64\n",
            " 13  pre_selfefficacy   652 non-null    float64\n",
            " 14  post_selfefficacy  507 non-null    float64\n",
            "dtypes: float64(5), int64(1), object(9)\n",
            "memory usage: 87.0+ KB\n",
            "None\n",
            "---------------------\n"
          ]
        },
        {
          "output_type": "execute_result",
          "data": {
            "text/plain": [
              "Username               0\n",
              "EdBackground_code      0\n",
              "EdBackground           0\n",
              "Phys_major             0\n",
              "Teach_exp              5\n",
              "EdLevel                0\n",
              "Teach_sub_gensci       0\n",
              "ระดับชั้นที่สอน        0\n",
              "Teach_level            0\n",
              "M2_teacher             0\n",
              "pretest_concept       61\n",
              "posttest_noitem      141\n",
              "posttest_concept     124\n",
              "pre_selfefficacy      44\n",
              "post_selfefficacy    189\n",
              "dtype: int64"
            ]
          },
          "metadata": {},
          "execution_count": 5
        }
      ],
      "source": [
        "print(df.head()) \n",
        "print(\"---------------------\")\n",
        "print(df.shape)\n",
        "print(\"---------------------\")\n",
        "print(df.info())\n",
        "print(\"---------------------\")\n",
        "df.isnull().sum()"
      ]
    },
    {
      "cell_type": "markdown",
      "source": [],
      "metadata": {
        "id": "urE8X-R-YGRC"
      },
      "id": "urE8X-R-YGRC"
    },
    {
      "cell_type": "markdown",
      "id": "ea673bb7",
      "metadata": {
        "id": "ea673bb7"
      },
      "source": [
        "#### Section 3 : Drop unwanted columns"
      ]
    },
    {
      "cell_type": "code",
      "execution_count": null,
      "id": "6bb5071f",
      "metadata": {
        "id": "6bb5071f",
        "colab": {
          "base_uri": "https://localhost:8080/"
        },
        "outputId": "a4c6d746-d473-4910-8be8-e9b1baeafb63"
      },
      "outputs": [
        {
          "output_type": "stream",
          "name": "stdout",
          "text": [
            "        Username  EdBackground_code EdBackground Phys_major   Teach_exp  \\\n",
            "0     wansa_IPST                  3     Engineer        Yes         0-5   \n",
            "1  3340400134073                  4    Sci other         No  มากกว่า 20   \n",
            "2            yod                  4    Sci other         No        6-10   \n",
            "3            fai                  3     Engineer        Yes        6-10   \n",
            "4       Nutchaya                  6    Ed nonsci         No       11-15   \n",
            "\n",
            "     EdLevel Teach_sub_gensci      Teach_level M2_teacher  pretest_concept  \\\n",
            "0     Master               No            Other         No              8.0   \n",
            "1     Master              Yes  lower secondary        Yes              5.0   \n",
            "2  Bachelor               Yes  lower secondary         No              5.0   \n",
            "3  Bachelor               Yes          Primary         No              5.0   \n",
            "4     Master              Yes          Primary         No              5.0   \n",
            "\n",
            "   posttest_noitem  pre_selfefficacy  \n",
            "0              3.0              56.0  \n",
            "1              NaN              58.0  \n",
            "2              NaN              53.0  \n",
            "3              3.0              63.0  \n",
            "4             17.0              71.0  \n"
          ]
        }
      ],
      "source": [
        "df.drop(['posttest_concept','ระดับชั้นที่สอน','post_selfefficacy'], axis=1, inplace=True)\n",
        "print(df.head())"
      ]
    },
    {
      "cell_type": "code",
      "source": [
        "df.isnull().sum()"
      ],
      "metadata": {
        "colab": {
          "base_uri": "https://localhost:8080/"
        },
        "id": "1O9Zn5EfYMur",
        "outputId": "8b700e60-90c6-42fd-d5b3-528cea3e5e5d"
      },
      "id": "1O9Zn5EfYMur",
      "execution_count": null,
      "outputs": [
        {
          "output_type": "execute_result",
          "data": {
            "text/plain": [
              "Username               0\n",
              "EdBackground_code      0\n",
              "EdBackground           0\n",
              "Phys_major             0\n",
              "Teach_exp              5\n",
              "EdLevel                0\n",
              "Teach_sub_gensci       0\n",
              "Teach_level            0\n",
              "M2_teacher             0\n",
              "pretest_concept       61\n",
              "posttest_noitem      141\n",
              "pre_selfefficacy      44\n",
              "dtype: int64"
            ]
          },
          "metadata": {},
          "execution_count": 7
        }
      ]
    },
    {
      "cell_type": "markdown",
      "source": [
        "### Section 4 : Drop null values"
      ],
      "metadata": {
        "id": "0zVvPGWpX8xI"
      },
      "id": "0zVvPGWpX8xI"
    },
    {
      "cell_type": "code",
      "source": [
        "df.dropna(subset=['pretest_concept','posttest_noitem','Teach_exp','pre_selfefficacy'], inplace=True)\n",
        "print(df.isnull().sum())"
      ],
      "metadata": {
        "colab": {
          "base_uri": "https://localhost:8080/"
        },
        "id": "kx9IcIpdYIMS",
        "outputId": "aaea25ba-1936-41a9-b2a9-60e4cf78ccbd"
      },
      "id": "kx9IcIpdYIMS",
      "execution_count": null,
      "outputs": [
        {
          "output_type": "stream",
          "name": "stdout",
          "text": [
            "Username             0\n",
            "EdBackground_code    0\n",
            "EdBackground         0\n",
            "Phys_major           0\n",
            "Teach_exp            0\n",
            "EdLevel              0\n",
            "Teach_sub_gensci     0\n",
            "Teach_level          0\n",
            "M2_teacher           0\n",
            "pretest_concept      0\n",
            "posttest_noitem      0\n",
            "pre_selfefficacy     0\n",
            "dtype: int64\n"
          ]
        }
      ]
    },
    {
      "cell_type": "markdown",
      "id": "810096a9",
      "metadata": {
        "id": "810096a9"
      },
      "source": [
        "## Exploratory Data Analysis (EDA):"
      ]
    },
    {
      "cell_type": "markdown",
      "id": "609ea8ce",
      "metadata": {
        "id": "609ea8ce"
      },
      "source": [
        "Description...\n",
        "1. checking simple statistic and data dsitribution\n",
        "2. Grouping teacher into two groups; succeed and dropout\n",
        "3. Grouping teachers into two groups based on thier pre-test performance both concept and self efficacy\n",
        "4.  Finding out teachers who dropouted and who succeeded based on thier demographic and test scores"
      ]
    },
    {
      "cell_type": "markdown",
      "id": "46068fe6",
      "metadata": {
        "id": "46068fe6"
      },
      "source": [
        "#### Section 1: checking simple statistic and data distribution"
      ]
    },
    {
      "cell_type": "code",
      "execution_count": null,
      "id": "ef16e2b6",
      "metadata": {
        "id": "ef16e2b6",
        "colab": {
          "base_uri": "https://localhost:8080/"
        },
        "outputId": "24d0e1e0-ba63-4d26-81ae-9389e36aa204"
      },
      "outputs": [
        {
          "output_type": "stream",
          "name": "stdout",
          "text": [
            "       EdBackground_code  pretest_concept  posttest_noitem  pre_selfefficacy\n",
            "count         512.000000       512.000000       512.000000        512.000000\n",
            "mean            4.679688         6.675781        16.087891         63.380859\n",
            "std             1.206204         3.078293         3.045977          6.452708\n",
            "min             1.000000         1.000000         3.000000         47.000000\n",
            "25%             4.000000         5.000000        17.000000         59.000000\n",
            "50%             5.000000         6.000000        17.000000         63.000000\n",
            "75%             5.000000         8.000000        17.000000         67.000000\n",
            "max             8.000000        16.000000        17.000000         84.000000\n"
          ]
        }
      ],
      "source": [
        "print(df.describe())"
      ]
    },
    {
      "cell_type": "code",
      "source": [
        "df['posttest_noitem'].plot(kind = 'hist')\n",
        "plt.show()"
      ],
      "metadata": {
        "colab": {
          "base_uri": "https://localhost:8080/",
          "height": 265
        },
        "id": "dHJ_SZ8oZk83",
        "outputId": "a8797d2c-a860-4627-ee85-8f97f0fb235a"
      },
      "id": "dHJ_SZ8oZk83",
      "execution_count": null,
      "outputs": [
        {
          "output_type": "display_data",
          "data": {
            "text/plain": [
              "<Figure size 432x288 with 1 Axes>"
            ],
            "image/png": "[encoded data removed]"
          },
          "metadata": {
            "needs_background": "light"
          }
        }
      ]
    },
    {
      "cell_type": "code",
      "source": [
        "df['pretest_concept'].plot(kind = 'hist')\n",
        "plt.show()"
      ],
      "metadata": {
        "colab": {
          "base_uri": "https://localhost:8080/",
          "height": 265
        },
        "id": "OgBt1VFiZmzP",
        "outputId": "277f8b12-0e77-4fcc-82bc-2da46ec312a5"
      },
      "id": "OgBt1VFiZmzP",
      "execution_count": null,
      "outputs": [
        {
          "output_type": "display_data",
          "data": {
            "text/plain": [
              "<Figure size 432x288 with 1 Axes>"
            ],
            "image/png": "[encoded data removed]"
          },
          "metadata": {
            "needs_background": "light"
          }
        }
      ]
    },
    {
      "cell_type": "code",
      "source": [
        "df['pre_selfefficacy'].plot(kind = 'hist')\n",
        "plt.show()"
      ],
      "metadata": {
        "colab": {
          "base_uri": "https://localhost:8080/",
          "height": 265
        },
        "id": "jgwr_71qZpOe",
        "outputId": "40a45365-49ca-4a89-ae58-7b7150cb4351"
      },
      "id": "jgwr_71qZpOe",
      "execution_count": null,
      "outputs": [
        {
          "output_type": "display_data",
          "data": {
            "text/plain": [
              "<Figure size 432x288 with 1 Axes>"
            ],
            "image/png": "[encoded data removed]"
          },
          "metadata": {
            "needs_background": "light"
          }
        }
      ]
    },
    {
      "cell_type": "markdown",
      "id": "f0fd30b7",
      "metadata": {
        "id": "f0fd30b7"
      },
      "source": [
        "#### Section 2 : Grouping teacher into two groups; succeed and dropout\n",
        "succeed teachers completed all pre-tests and all 17 post test items in buoyancy\n",
        "dropout teachers completed all pre-tests but did not submit 17 post test items in buoyabcy"
      ]
    },
    {
      "cell_type": "code",
      "execution_count": null,
      "id": "4b33a152",
      "metadata": {
        "id": "4b33a152",
        "colab": {
          "base_uri": "https://localhost:8080/"
        },
        "outputId": "5403ada9-f79b-40a5-a11d-fd1366fe716d"
      },
      "outputs": [
        {
          "output_type": "stream",
          "name": "stdout",
          "text": [
            "              Username  EdBackground_code  EdBackground Phys_major  \\\n",
            "660         kasmawatee                  5  Ed Sci other         No   \n",
            "127    sujindachaitong                  6     Ed nonsci         No   \n",
            "381  duangpornsookprom                  4     Sci other         No   \n",
            "418               19a2                  5  Ed Sci other         No   \n",
            "257        orataipaeye                  6     Ed nonsci         No   \n",
            "122        chalremphon                  5  Ed Sci other         No   \n",
            "618         jiraporn41                  6     Ed nonsci         No   \n",
            "317               9a3d                  5  Ed Sci other         No   \n",
            "683          tukta1318                  6     Ed nonsci         No   \n",
            "385        hataipathra                  5  Ed Sci other         No   \n",
            "\n",
            "      Teach_exp    EdLevel Teach_sub_gensci      Teach_level M2_teacher  \\\n",
            "660         0-5  Bachelor               Yes          Primary         No   \n",
            "127  มากกว่า 20  Bachelor               Yes  lower secondary        Yes   \n",
            "381        6-10  Bachelor                No            Other         No   \n",
            "418         0-5  Bachelor               Yes  lower secondary        Yes   \n",
            "257  มากกว่า 20        Phd              Yes  lower secondary        Yes   \n",
            "122        6-10     Master               No  lower secondary         No   \n",
            "618        6-10     Master              Yes          Primary         No   \n",
            "317        6-10     Master              Yes          Primary         No   \n",
            "683        6-10     Master               No            Other         No   \n",
            "385         0-5  Bachelor               Yes  lower secondary        Yes   \n",
            "\n",
            "     pretest_concept  posttest_noitem  pre_selfefficacy  Success  \n",
            "660              2.0              9.0              66.0  dropout  \n",
            "127              7.0             17.0              66.0  succeed  \n",
            "381              5.0             17.0              62.0  succeed  \n",
            "418              8.0             17.0              75.0  succeed  \n",
            "257              4.0             17.0              70.0  succeed  \n",
            "122              4.0              3.0              58.0  dropout  \n",
            "618              4.0             17.0              67.0  succeed  \n",
            "317              6.0             17.0              61.0  succeed  \n",
            "683              5.0             17.0              64.0  succeed  \n",
            "385              8.0             17.0              66.0  succeed  \n",
            "---------------------\n"
          ]
        },
        {
          "output_type": "execute_result",
          "data": {
            "text/plain": [
              "Success\n",
              "succeed    463\n",
              "dropout     49\n",
              "dtype: int64"
            ]
          },
          "metadata": {},
          "execution_count": 13
        }
      ],
      "source": [
        "SuccCondition = [\n",
        "    (df['posttest_noitem'] < 17),\n",
        "    (df['posttest_noitem'] == 17)\n",
        "]\n",
        "value = ['dropout','succeed']\n",
        "df['Success'] = np.select(SuccCondition,value)\n",
        "print(df.sample(10))\n",
        "print(\"---------------------\")\n",
        "df.value_counts('Success')"
      ]
    },
    {
      "cell_type": "markdown",
      "id": "cd408496",
      "metadata": {
        "id": "cd408496"
      },
      "source": [
        "#### Section 3 : Grouping teachers into two groups based on thier pre-test performance both concept and self *efficacy*"
      ]
    },
    {
      "cell_type": "code",
      "source": [
        "#Grouping teachers into two groups based on thier pre-test in buoyancy concept"
      ],
      "metadata": {
        "id": "AYTkBMk2m-9B"
      },
      "id": "AYTkBMk2m-9B",
      "execution_count": null,
      "outputs": []
    },
    {
      "cell_type": "code",
      "execution_count": null,
      "id": "11dd5d89",
      "metadata": {
        "id": "11dd5d89",
        "colab": {
          "base_uri": "https://localhost:8080/"
        },
        "outputId": "69040378-a5f8-44ee-fcab-27e7b8c14948"
      },
      "outputs": [
        {
          "output_type": "stream",
          "name": "stdout",
          "text": [
            "                  Username  EdBackground_code  EdBackground Phys_major  \\\n",
            "339  minkmantana_gmail_com                  7     Sci other         No   \n",
            "349                 fon111                  6     Ed nonsci         No   \n",
            "563             rewadee186                  5  Ed Sci other         No   \n",
            "344                chomphu                  4     Sci other         No   \n",
            "324            ntamyim2530                  6     Ed nonsci         No   \n",
            "341                 namaoy                  5  Ed Sci other         No   \n",
            "517                   6875                  6     Ed nonsci         No   \n",
            "81               krusawbio                  4     Sci other         No   \n",
            "583              malai1972                  6     Ed nonsci         No   \n",
            "540        jutharatkrupooh                  4     Sci other         No   \n",
            "\n",
            "      Teach_exp    EdLevel Teach_sub_gensci      Teach_level M2_teacher  \\\n",
            "339        6-10  Bachelor               Yes          Primary         No   \n",
            "349       16-20     Master              Yes  lower secondary        Yes   \n",
            "563       11-15  Bachelor                No            Other         No   \n",
            "344         0-5  Bachelor                No            Other         No   \n",
            "324         0-5     Master              Yes  lower secondary         No   \n",
            "341        6-10  Bachelor               Yes          Primary         No   \n",
            "517       11-15     Master               No  lower secondary         No   \n",
            "81   มากกว่า 20  Bachelor               Yes            Other         No   \n",
            "583  มากกว่า 20     Master              Yes          Primary         No   \n",
            "540         0-5  Bachelor               Yes          Primary         No   \n",
            "\n",
            "     pretest_concept  posttest_noitem  pre_selfefficacy  Success  \\\n",
            "339              8.0             17.0              68.0  succeed   \n",
            "349              4.0             17.0              73.0  succeed   \n",
            "563              5.0             17.0              68.0  succeed   \n",
            "344              4.0             17.0              55.0  succeed   \n",
            "324             12.0              3.0              60.0  dropout   \n",
            "341              2.0             17.0              68.0  succeed   \n",
            "517             11.0             17.0              57.0  succeed   \n",
            "81               5.0             17.0              62.0  succeed   \n",
            "583             14.0             17.0              64.0  succeed   \n",
            "540              4.0             17.0              60.0  succeed   \n",
            "\n",
            "    Pre Test Level  \n",
            "339   High Pretest  \n",
            "349    Low Pretest  \n",
            "563    Low Pretest  \n",
            "344    Low Pretest  \n",
            "324   High Pretest  \n",
            "341    Low Pretest  \n",
            "517   High Pretest  \n",
            "81     Low Pretest  \n",
            "583   High Pretest  \n",
            "540    Low Pretest  \n",
            "---------------------\n"
          ]
        },
        {
          "output_type": "execute_result",
          "data": {
            "text/plain": [
              "Pre Test Level\n",
              "Low Pretest     306\n",
              "High Pretest    206\n",
              "dtype: int64"
            ]
          },
          "metadata": {},
          "execution_count": 15
        }
      ],
      "source": [
        "x= df['pretest_concept'].mean()\n",
        "PretestCondition = [\n",
        "    (df['pretest_concept'] < x),\n",
        "    (df['pretest_concept'] >= x)\n",
        "]\n",
        "value = ['Low Pretest','High Pretest']\n",
        "df['Pre Test Level'] = np.select(PretestCondition,value)\n",
        "print(df.sample(10))\n",
        "print(\"---------------------\")\n",
        "df.value_counts('Pre Test Level')"
      ]
    },
    {
      "cell_type": "code",
      "source": [
        "#Grouping teachers into two groups based on thier pre-test in self efficacy"
      ],
      "metadata": {
        "id": "HBMMW2t7nG-z"
      },
      "id": "HBMMW2t7nG-z",
      "execution_count": null,
      "outputs": []
    },
    {
      "cell_type": "code",
      "source": [
        "y= df['pre_selfefficacy'].mean()\n",
        "PreSelfEffCondition = [\n",
        "    (df['pre_selfefficacy'] < y),\n",
        "    (df['pre_selfefficacy'] >= y)\n",
        "]\n",
        "value = ['Low SelfEff','High SelfEff']\n",
        "df['Pre Self Efficacy Level'] = np.select(PreSelfEffCondition,value)\n",
        "print(df.sample(10))\n",
        "print(\"---------------------\")\n",
        "df.value_counts('Pre Self Efficacy Level')"
      ],
      "metadata": {
        "colab": {
          "base_uri": "https://localhost:8080/"
        },
        "id": "_G08fsaspmga",
        "outputId": "a2b20984-5dc3-439f-fcd0-df77a1ad9980"
      },
      "id": "_G08fsaspmga",
      "execution_count": null,
      "outputs": [
        {
          "output_type": "stream",
          "name": "stdout",
          "text": [
            "                  Username  EdBackground_code  EdBackground Phys_major  \\\n",
            "205                Zenzero                  5  Ed Sci other         No   \n",
            "313              ammara145                  4     Sci other         No   \n",
            "455  sumalee_b_hotmail_com                  5  Ed Sci other         No   \n",
            "0               wansa_IPST                  3      Engineer        Yes   \n",
            "130            Ruthairat04                  5  Ed Sci other         No   \n",
            "35                nongpupu                  6     Ed nonsci         No   \n",
            "563             rewadee186                  5  Ed Sci other         No   \n",
            "634            paradorn010                  1      Sci Phys        Yes   \n",
            "334                   4375                  4     Sci other         No   \n",
            "413                   af88                  5  Ed Sci other         No   \n",
            "\n",
            "      Teach_exp    EdLevel Teach_sub_gensci      Teach_level M2_teacher  \\\n",
            "205         0-5  Bachelor               Yes  lower secondary         No   \n",
            "313       11-15  Bachelor               Yes          Primary         No   \n",
            "455  มากกว่า 20     Master              Yes  lower secondary         No   \n",
            "0           0-5     Master               No            Other         No   \n",
            "130       11-15  Bachelor               Yes          Primary         No   \n",
            "35        11-15     Master              Yes  lower secondary         No   \n",
            "563       11-15  Bachelor                No            Other         No   \n",
            "634         0-5  Bachelor               Yes  lower secondary        Yes   \n",
            "334       11-15  Bachelor               Yes  lower secondary        Yes   \n",
            "413       11-15  Bachelor               Yes  lower secondary         No   \n",
            "\n",
            "     pretest_concept  posttest_noitem  pre_selfefficacy  Success  \\\n",
            "205              8.0             17.0              73.0  succeed   \n",
            "313              4.0             17.0              62.0  succeed   \n",
            "455              7.0             17.0              62.0  succeed   \n",
            "0                8.0              3.0              56.0  dropout   \n",
            "130              6.0             17.0              54.0  succeed   \n",
            "35               4.0             17.0              64.0  succeed   \n",
            "563              5.0             17.0              68.0  succeed   \n",
            "634             16.0             17.0              60.0  succeed   \n",
            "334              5.0             17.0              60.0  succeed   \n",
            "413              8.0             17.0              65.0  succeed   \n",
            "\n",
            "    Pre Test Level Pre Self Efficacy Level  \n",
            "205   High Pretest            High SelfEff  \n",
            "313    Low Pretest             Low SelfEff  \n",
            "455   High Pretest             Low SelfEff  \n",
            "0     High Pretest             Low SelfEff  \n",
            "130    Low Pretest             Low SelfEff  \n",
            "35     Low Pretest            High SelfEff  \n",
            "563    Low Pretest            High SelfEff  \n",
            "634   High Pretest             Low SelfEff  \n",
            "334    Low Pretest             Low SelfEff  \n",
            "413   High Pretest            High SelfEff  \n",
            "---------------------\n"
          ]
        },
        {
          "output_type": "execute_result",
          "data": {
            "text/plain": [
              "Pre Self Efficacy Level\n",
              "Low SelfEff     266\n",
              "High SelfEff    246\n",
              "dtype: int64"
            ]
          },
          "metadata": {},
          "execution_count": 16
        }
      ]
    },
    {
      "cell_type": "markdown",
      "source": [
        "#section4 : Finding out teachers who dropouted and who succeeded based on thier demographic and test score"
      ],
      "metadata": {
        "id": "XapgbXlOOYtk"
      },
      "id": "XapgbXlOOYtk"
    },
    {
      "cell_type": "code",
      "source": [
        "#getting a list of column namew\n",
        "column_names = df.columns.values.tolist()\n",
        "print(column_names)"
      ],
      "metadata": {
        "colab": {
          "base_uri": "https://localhost:8080/"
        },
        "id": "M3N86MQ3OWGl",
        "outputId": "044148c7-d8bf-4e9a-d82a-c4d78ee51e62"
      },
      "id": "M3N86MQ3OWGl",
      "execution_count": null,
      "outputs": [
        {
          "output_type": "stream",
          "name": "stdout",
          "text": [
            "['Username', 'EdBackground_code', 'EdBackground', 'Phys_major', 'Teach_exp', 'EdLevel', 'Teach_sub_gensci', 'Teach_level', 'M2_teacher', 'pretest_concept', 'posttest_noitem', 'pre_selfefficacy', 'Success', 'Pre Test Level', 'Pre Self Efficacy Level']\n"
          ]
        }
      ]
    },
    {
      "cell_type": "code",
      "source": [
        "#identify column name that will be used in the analysis\n",
        "column_names = ['EdBackground', 'Phys_major', 'Teach_exp', 'EdLevel', 'Teach_sub_gensci', 'Teach_level', 'M2_teacher', 'Success', 'Pre Test Level', 'Pre Self Efficacy Level']\n",
        "print(column_names)"
      ],
      "metadata": {
        "colab": {
          "base_uri": "https://localhost:8080/"
        },
        "id": "ky1Xow98OqS_",
        "outputId": "626ad561-f2b7-4bb2-c06a-e41b7256f6c9"
      },
      "id": "ky1Xow98OqS_",
      "execution_count": null,
      "outputs": [
        {
          "output_type": "stream",
          "name": "stdout",
          "text": [
            "['EdBackground', 'Phys_major', 'Teach_exp', 'EdLevel', 'Teach_sub_gensci', 'Teach_level', 'M2_teacher', 'Success', 'Pre Test Level', 'Pre Self Efficacy Level']\n"
          ]
        }
      ]
    },
    {
      "cell_type": "code",
      "source": [
        "#using for loop to analyse the same process with all item in column_names\n",
        "for items in column_names:\n",
        "  df2 = df.groupby(['Success', items]).agg({'Username': 'count'}) #group by success and interested variable (each column name in items) then count number of teacher\n",
        "  print(df2)\n",
        "  df3 = df2.groupby(level=0).apply(lambda x:100 * x / float(x.sum())) #convert number of teacher into percentage\n",
        "  print(df3)\n",
        "  a = df[items].unique()  #getting a list of unique values in each items\n",
        "  a.sort()\n",
        "  print(a)\n",
        "  plt.style.use('ggplot')\n",
        "  df3.unstack().plot(kind='bar',stacked=True,figsize=(6,6))   #plot a stack bar graph\n",
        "  for items in a:  #create legend from a list of unique values in each items\n",
        "    plt.legend(a)\n",
        "  plt.ylabel(\"percent\")\n",
        "  plt.show()\n",
        "  print(\"---------------------------\")\n",
        "  print(\"---------------------------\")\n",
        "  print(\"---------------------------\")"
      ],
      "metadata": {
        "colab": {
          "base_uri": "https://localhost:8080/",
          "height": 1000
        },
        "id": "HKxAYvCmPApZ",
        "outputId": "e4a1a9cf-1fff-400e-c83d-47abef9661e9"
      },
      "id": "HKxAYvCmPApZ",
      "execution_count": null,
      "outputs": [
        {
          "output_type": "stream",
          "name": "stdout",
          "text": [
            "                      Username\n",
            "Success EdBackground          \n",
            "dropout Ed Sci other        21\n",
            "        Ed nonsci            7\n",
            "        Ed phys              2\n",
            "        Engineer             2\n",
            "        Non Sci              3\n",
            "        Sci other           14\n",
            "succeed Ed Sci other       209\n",
            "        Ed nonsci           61\n",
            "        Ed phys             13\n",
            "        Engineer             6\n",
            "        Non Sci              8\n",
            "        Sci Phys            17\n",
            "        Sci other          149\n",
            "                       Username\n",
            "Success EdBackground           \n",
            "dropout Ed Sci other  42.857143\n",
            "        Ed nonsci     14.285714\n",
            "        Ed phys        4.081633\n",
            "        Engineer       4.081633\n",
            "        Non Sci        6.122449\n",
            "        Sci other     28.571429\n",
            "succeed Ed Sci other  45.140389\n",
            "        Ed nonsci     13.174946\n",
            "        Ed phys        2.807775\n",
            "        Engineer       1.295896\n",
            "        Non Sci        1.727862\n",
            "        Sci Phys       3.671706\n",
            "        Sci other     32.181425\n",
            "['Ed Sci other' 'Ed nonsci' 'Ed phys' 'Engineer' 'Non Sci' 'Sci Phys'\n",
            " 'Sci other']\n"
          ]
        },
        {
          "output_type": "display_data",
          "data": {
            "text/plain": [
              "<Figure size 432x432 with 1 Axes>"
            ],
            "image/png": "[encoded data removed]"
          },
          "metadata": {}
        },
        {
          "output_type": "stream",
          "name": "stdout",
          "text": [
            "---------------------------\n",
            "---------------------------\n",
            "---------------------------\n",
            "                    Username\n",
            "Success Phys_major          \n",
            "dropout No                45\n",
            "        Yes                4\n",
            "succeed No               427\n",
            "        Yes               36\n",
            "                     Username\n",
            "Success Phys_major           \n",
            "dropout No          91.836735\n",
            "        Yes          8.163265\n",
            "succeed No          92.224622\n",
            "        Yes          7.775378\n",
            "['No' 'Yes']\n"
          ]
        },
        {
          "output_type": "display_data",
          "data": {
            "text/plain": [
              "<Figure size 432x432 with 1 Axes>"
            ],
            "image/png": "[encoded data removed]"
          },
          "metadata": {}
        },
        {
          "output_type": "stream",
          "name": "stdout",
          "text": [
            "---------------------------\n",
            "---------------------------\n",
            "---------------------------\n",
            "                    Username\n",
            "Success Teach_exp           \n",
            "dropout 0-5               20\n",
            "        11-15              6\n",
            "        16-20              4\n",
            "        6-10              17\n",
            "        มากกว่า 20         2\n",
            "succeed 0-5              177\n",
            "        11-15             58\n",
            "        16-20             42\n",
            "        6-10             129\n",
            "        มากกว่า 20        57\n",
            "                     Username\n",
            "Success Teach_exp            \n",
            "dropout 0-5         40.816327\n",
            "        11-15       12.244898\n",
            "        16-20        8.163265\n",
            "        6-10        34.693878\n",
            "        มากกว่า 20   4.081633\n",
            "succeed 0-5         38.228942\n",
            "        11-15       12.526998\n",
            "        16-20        9.071274\n",
            "        6-10        27.861771\n",
            "        มากกว่า 20  12.311015\n",
            "['0-5' '11-15' '16-20' '6-10' 'มากกว่า 20']\n"
          ]
        },
        {
          "output_type": "stream",
          "name": "stderr",
          "text": [
            "/usr/local/lib/python3.7/dist-packages/matplotlib/backends/backend_agg.py:214: RuntimeWarning: Glyph 3617 missing from current font.\n",
            "  font.set_text(s, 0.0, flags=flags)\n",
            "/usr/local/lib/python3.7/dist-packages/matplotlib/backends/backend_agg.py:214: RuntimeWarning: Glyph 3634 missing from current font.\n",
            "  font.set_text(s, 0.0, flags=flags)\n",
            "/usr/local/lib/python3.7/dist-packages/matplotlib/backends/backend_agg.py:214: RuntimeWarning: Glyph 3585 missing from current font.\n",
            "  font.set_text(s, 0.0, flags=flags)\n",
            "/usr/local/lib/python3.7/dist-packages/matplotlib/backends/backend_agg.py:214: RuntimeWarning: Glyph 3623 missing from current font.\n",
            "  font.set_text(s, 0.0, flags=flags)\n",
            "/usr/local/lib/python3.7/dist-packages/matplotlib/backends/backend_agg.py:214: RuntimeWarning: Glyph 3656 missing from current font.\n",
            "  font.set_text(s, 0.0, flags=flags)\n",
            "/usr/local/lib/python3.7/dist-packages/matplotlib/backends/backend_agg.py:183: RuntimeWarning: Glyph 3617 missing from current font.\n",
            "  font.set_text(s, 0, flags=flags)\n",
            "/usr/local/lib/python3.7/dist-packages/matplotlib/backends/backend_agg.py:183: RuntimeWarning: Glyph 3634 missing from current font.\n",
            "  font.set_text(s, 0, flags=flags)\n",
            "/usr/local/lib/python3.7/dist-packages/matplotlib/backends/backend_agg.py:183: RuntimeWarning: Glyph 3585 missing from current font.\n",
            "  font.set_text(s, 0, flags=flags)\n",
            "/usr/local/lib/python3.7/dist-packages/matplotlib/backends/backend_agg.py:183: RuntimeWarning: Glyph 3623 missing from current font.\n",
            "  font.set_text(s, 0, flags=flags)\n",
            "/usr/local/lib/python3.7/dist-packages/matplotlib/backends/backend_agg.py:183: RuntimeWarning: Glyph 3656 missing from current font.\n",
            "  font.set_text(s, 0, flags=flags)\n"
          ]
        },
        {
          "output_type": "display_data",
          "data": {
            "text/plain": [
              "<Figure size 432x432 with 1 Axes>"
            ],
            "image/png": "[encoded data removed]"
          },
          "metadata": {}
        },
        {
          "output_type": "stream",
          "name": "stdout",
          "text": [
            "---------------------------\n",
            "---------------------------\n",
            "---------------------------\n",
            "                   Username\n",
            "Success EdLevel            \n",
            "dropout Bachelor         34\n",
            "        Master           15\n",
            "succeed Bachelor        292\n",
            "        Master          165\n",
            "        Phd               5\n",
            "        other             1\n",
            "                    Username\n",
            "Success EdLevel             \n",
            "dropout Bachelor   69.387755\n",
            "        Master     30.612245\n",
            "succeed Bachelor   63.066955\n",
            "        Master     35.637149\n",
            "        Phd         1.079914\n",
            "        other       0.215983\n",
            "['Bachelor ' 'Master' 'Phd' 'other']\n"
          ]
        },
        {
          "output_type": "display_data",
          "data": {
            "text/plain": [
              "<Figure size 432x432 with 1 Axes>"
            ],
            "image/png": "[encoded data removed]"
          },
          "metadata": {}
        },
        {
          "output_type": "stream",
          "name": "stdout",
          "text": [
            "---------------------------\n",
            "---------------------------\n",
            "---------------------------\n",
            "                          Username\n",
            "Success Teach_sub_gensci          \n",
            "dropout No                       9\n",
            "        Yes                     40\n",
            "succeed No                      67\n",
            "        Yes                    396\n",
            "                           Username\n",
            "Success Teach_sub_gensci           \n",
            "dropout No                18.367347\n",
            "        Yes               81.632653\n",
            "succeed No                14.470842\n",
            "        Yes               85.529158\n",
            "['No' 'Yes']\n"
          ]
        },
        {
          "output_type": "display_data",
          "data": {
            "text/plain": [
              "<Figure size 432x432 with 1 Axes>"
            ],
            "image/png": "[encoded data removed]"
          },
          "metadata": {}
        },
        {
          "output_type": "stream",
          "name": "stdout",
          "text": [
            "---------------------------\n",
            "---------------------------\n",
            "---------------------------\n",
            "                         Username\n",
            "Success Teach_level              \n",
            "dropout Other                   4\n",
            "        Primary                17\n",
            "        lower secondary        28\n",
            "succeed Other                  62\n",
            "        Primary               114\n",
            "        lower secondary       287\n",
            "                          Username\n",
            "Success Teach_level               \n",
            "dropout Other             8.163265\n",
            "        Primary          34.693878\n",
            "        lower secondary  57.142857\n",
            "succeed Other            13.390929\n",
            "        Primary          24.622030\n",
            "        lower secondary  61.987041\n",
            "['Other' 'Primary' 'lower secondary']\n"
          ]
        },
        {
          "output_type": "display_data",
          "data": {
            "text/plain": [
              "<Figure size 432x432 with 1 Axes>"
            ],
            "image/png": "[encoded data removed]"
          },
          "metadata": {}
        },
        {
          "output_type": "stream",
          "name": "stdout",
          "text": [
            "---------------------------\n",
            "---------------------------\n",
            "---------------------------\n",
            "                    Username\n",
            "Success M2_teacher          \n",
            "dropout No                33\n",
            "        Yes               16\n",
            "succeed No               275\n",
            "        Yes              188\n",
            "                     Username\n",
            "Success M2_teacher           \n",
            "dropout No          67.346939\n",
            "        Yes         32.653061\n",
            "succeed No          59.395248\n",
            "        Yes         40.604752\n",
            "['No' 'Yes']\n"
          ]
        },
        {
          "output_type": "display_data",
          "data": {
            "text/plain": [
              "<Figure size 432x432 with 1 Axes>"
            ],
            "image/png": "[encoded data removed]"
          },
          "metadata": {}
        },
        {
          "output_type": "stream",
          "name": "stdout",
          "text": [
            "---------------------------\n",
            "---------------------------\n",
            "---------------------------\n",
            "                 Username\n",
            "Success Success          \n",
            "dropout dropout        49\n",
            "succeed succeed       463\n",
            "                 Username\n",
            "Success Success          \n",
            "dropout dropout     100.0\n",
            "succeed succeed     100.0\n",
            "['dropout' 'succeed']\n"
          ]
        },
        {
          "output_type": "display_data",
          "data": {
            "text/plain": [
              "<Figure size 432x432 with 1 Axes>"
            ],
            "image/png": "[encoded data removed]"
          },
          "metadata": {}
        },
        {
          "output_type": "stream",
          "name": "stdout",
          "text": [
            "---------------------------\n",
            "---------------------------\n",
            "---------------------------\n",
            "                        Username\n",
            "Success Pre Test Level          \n",
            "dropout High Pretest          15\n",
            "        Low Pretest           34\n",
            "succeed High Pretest         191\n",
            "        Low Pretest          272\n",
            "                         Username\n",
            "Success Pre Test Level           \n",
            "dropout High Pretest    30.612245\n",
            "        Low Pretest     69.387755\n",
            "succeed High Pretest    41.252700\n",
            "        Low Pretest     58.747300\n",
            "['High Pretest' 'Low Pretest']\n"
          ]
        },
        {
          "output_type": "display_data",
          "data": {
            "text/plain": [
              "<Figure size 432x432 with 1 Axes>"
            ],
            "image/png": "[encoded data removed]"
          },
          "metadata": {}
        },
        {
          "output_type": "stream",
          "name": "stdout",
          "text": [
            "---------------------------\n",
            "---------------------------\n",
            "---------------------------\n",
            "                                 Username\n",
            "Success Pre Self Efficacy Level          \n",
            "dropout High SelfEff                   23\n",
            "        Low SelfEff                    26\n",
            "succeed High SelfEff                  223\n",
            "        Low SelfEff                   240\n",
            "                                  Username\n",
            "Success Pre Self Efficacy Level           \n",
            "dropout High SelfEff             46.938776\n",
            "        Low SelfEff              53.061224\n",
            "succeed High SelfEff             48.164147\n",
            "        Low SelfEff              51.835853\n",
            "['High SelfEff' 'Low SelfEff']\n"
          ]
        },
        {
          "output_type": "display_data",
          "data": {
            "text/plain": [
              "<Figure size 432x432 with 1 Axes>"
            ],
            "image/png": "[encoded data removed]"
          },
          "metadata": {}
        },
        {
          "output_type": "stream",
          "name": "stdout",
          "text": [
            "---------------------------\n",
            "---------------------------\n",
            "---------------------------\n"
          ]
        }
      ]
    },
    {
      "cell_type": "markdown",
      "source": [
        "###Section4 (older version Before developing For Loop): Finding out teachers who dropouted and who succeeded based on thier demographic and test scores "
      ],
      "metadata": {
        "id": "hmEFKqbLpwmZ"
      },
      "id": "hmEFKqbLpwmZ"
    },
    {
      "cell_type": "code",
      "source": [
        "#group by success and edbackground, and get a count of teachers for each group. \n",
        "#Then change the counting number into percentage. and display results as a stack bar plot"
      ],
      "metadata": {
        "id": "HWujqOOmrF-H"
      },
      "id": "HWujqOOmrF-H",
      "execution_count": null,
      "outputs": []
    },
    {
      "cell_type": "code",
      "source": [
        "df2 = df.groupby(['Success', 'EdBackground']).agg({'Username': 'count'}) #counting\n",
        "print(df2)\n",
        "df3 = df2.groupby(level=0).apply(lambda x:100 * x / float(x.sum())) #calcualte percentage\n",
        "print(df3)"
      ],
      "metadata": {
        "colab": {
          "base_uri": "https://localhost:8080/"
        },
        "id": "L32i2i6zrWGw",
        "outputId": "0a57aaad-58f5-4434-8020-51ce8e44bf6d"
      },
      "id": "L32i2i6zrWGw",
      "execution_count": null,
      "outputs": [
        {
          "output_type": "stream",
          "name": "stdout",
          "text": [
            "                      Username\n",
            "Success EdBackground          \n",
            "dropout Ed Sci other        21\n",
            "        Ed nonsci            7\n",
            "        Ed phys              2\n",
            "        Engineer             2\n",
            "        Non Sci              3\n",
            "        Sci other           14\n",
            "succeed Ed Sci other       209\n",
            "        Ed nonsci           61\n",
            "        Ed phys             13\n",
            "        Engineer             6\n",
            "        Non Sci              8\n",
            "        Sci Phys            17\n",
            "        Sci other          149\n",
            "                       Username\n",
            "Success EdBackground           \n",
            "dropout Ed Sci other  42.857143\n",
            "        Ed nonsci     14.285714\n",
            "        Ed phys        4.081633\n",
            "        Engineer       4.081633\n",
            "        Non Sci        6.122449\n",
            "        Sci other     28.571429\n",
            "succeed Ed Sci other  45.140389\n",
            "        Ed nonsci     13.174946\n",
            "        Ed phys        2.807775\n",
            "        Engineer       1.295896\n",
            "        Non Sci        1.727862\n",
            "        Sci Phys       3.671706\n",
            "        Sci other     32.181425\n"
          ]
        }
      ]
    },
    {
      "cell_type": "code",
      "source": [
        "#get a list of unique value in a column\n",
        "a = df['EdBackground'].unique()\n",
        "a.sort()\n",
        "print(a)"
      ],
      "metadata": {
        "colab": {
          "base_uri": "https://localhost:8080/"
        },
        "id": "Hgj7dHYlAiyT",
        "outputId": "c7a2c808-b957-4142-db6f-8bde1ae1496f"
      },
      "id": "Hgj7dHYlAiyT",
      "execution_count": null,
      "outputs": [
        {
          "output_type": "stream",
          "name": "stdout",
          "text": [
            "['Ed Sci other' 'Ed nonsci' 'Ed phys' 'Engineer' 'Non Sci' 'Sci Phys'\n",
            " 'Sci other']\n"
          ]
        }
      ]
    },
    {
      "cell_type": "code",
      "source": [
        "df3.unstack().plot(kind='bar',stacked=True,figsize=(8,8))\n",
        "plt.title(\"% by Educational background\")\n",
        "plt.xlabel(\"Success\")\n",
        "plt.ylabel(\"percent\")\n",
        "for items in a:  #create legend \n",
        "  plt.legend(a)\n",
        "plt.show()"
      ],
      "metadata": {
        "colab": {
          "base_uri": "https://localhost:8080/",
          "height": 544
        },
        "id": "F73WGZgCr5Mi",
        "outputId": "e825ad36-1396-4a66-9203-dbfa13572724"
      },
      "id": "F73WGZgCr5Mi",
      "execution_count": null,
      "outputs": [
        {
          "output_type": "display_data",
          "data": {
            "text/plain": [
              "<Figure size 576x576 with 1 Axes>"
            ],
            "image/png": "[encoded data removed]"
          },
          "metadata": {
            "needs_background": "light"
          }
        }
      ]
    },
    {
      "cell_type": "code",
      "source": [
        "#group by success and Phys_major, and get a count of teachers for each group. \n",
        "#Then change the counting number into percentage. and display results as a stack bar plot"
      ],
      "metadata": {
        "id": "zDtj1iF-r_JT"
      },
      "id": "zDtj1iF-r_JT",
      "execution_count": null,
      "outputs": []
    },
    {
      "cell_type": "code",
      "source": [
        "df2 = df.groupby(['Success', 'Phys_major']).agg({'Username': 'count'}) #counting\n",
        "print(df2)\n",
        "df3 = df2.groupby(level=0).apply(lambda x:100 * x / float(x.sum())) #calcualte percentage\n",
        "print(df3)\n",
        "df3.unstack().plot(kind='bar',stacked=True,figsize=(8,8))\n",
        "plt.title(\"% by Major in physics\")\n",
        "plt.xlabel(\"Success\")\n",
        "plt.ylabel(\"percent\")\n",
        "#get a list of unique value in a column\n",
        "a = df['Phys_major'].unique()  \n",
        "a.sort()\n",
        "print(a)\n",
        "for items in a:  #create legend \n",
        "  plt.legend(a)\n",
        "plt.show()"
      ],
      "metadata": {
        "colab": {
          "base_uri": "https://localhost:8080/",
          "height": 770
        },
        "id": "rY-bxKtqsI0L",
        "outputId": "d80ba52c-8e4e-4e7a-8267-ab4a5222b17f"
      },
      "id": "rY-bxKtqsI0L",
      "execution_count": null,
      "outputs": [
        {
          "output_type": "stream",
          "name": "stdout",
          "text": [
            "                    Username\n",
            "Success Phys_major          \n",
            "dropout No                45\n",
            "        Yes                4\n",
            "succeed No               427\n",
            "        Yes               36\n",
            "                     Username\n",
            "Success Phys_major           \n",
            "dropout No          91.836735\n",
            "        Yes          8.163265\n",
            "succeed No          92.224622\n",
            "        Yes          7.775378\n",
            "['No' 'Yes']\n"
          ]
        },
        {
          "output_type": "display_data",
          "data": {
            "text/plain": [
              "<Figure size 576x576 with 1 Axes>"
            ],
            "image/png": "[encoded data removed]"
          },
          "metadata": {
            "needs_background": "light"
          }
        }
      ]
    },
    {
      "cell_type": "code",
      "source": [
        "#group by success and Teach_exp, and get a count of teachers for each group. \n",
        "#Then change the counting number into percentage. and display results as a stack bar plot"
      ],
      "metadata": {
        "id": "BNQlqn5EsNKb"
      },
      "id": "BNQlqn5EsNKb",
      "execution_count": null,
      "outputs": []
    },
    {
      "cell_type": "code",
      "source": [
        "df2 = df.groupby(['Success', 'Teach_exp']).agg({'Username': 'count'}) #counting\n",
        "print(df2)\n",
        "df3 = df2.groupby(level=0).apply(lambda x:100 * x / float(x.sum())) #calcualte percentage\n",
        "print(df3)\n",
        "df3.unstack().plot(kind='bar',stacked=True,figsize=(8,8))\n",
        "plt.title(\"% by Teaching experience in years\")\n",
        "plt.xlabel(\"Success\")\n",
        "plt.ylabel(\"percent\")\n",
        "#get a list of unique value in a column\n",
        "a = df['Teach_exp'].unique()\n",
        "a.sort()\n",
        "print(a)\n",
        "for items in a:  #create legend \n",
        "  plt.legend(a)\n",
        "plt.show()"
      ],
      "metadata": {
        "colab": {
          "base_uri": "https://localhost:8080/",
          "height": 1000
        },
        "id": "lbLSkZABsV6D",
        "outputId": "e0f28517-76e3-4ffc-fa0b-218e3a4532b8"
      },
      "id": "lbLSkZABsV6D",
      "execution_count": null,
      "outputs": [
        {
          "output_type": "stream",
          "name": "stdout",
          "text": [
            "                    Username\n",
            "Success Teach_exp           \n",
            "dropout 0-5               20\n",
            "        11-15              6\n",
            "        16-20              4\n",
            "        6-10              17\n",
            "        มากกว่า 20         2\n",
            "succeed 0-5              177\n",
            "        11-15             58\n",
            "        16-20             42\n",
            "        6-10             129\n",
            "        มากกว่า 20        57\n",
            "                     Username\n",
            "Success Teach_exp            \n",
            "dropout 0-5         40.816327\n",
            "        11-15       12.244898\n",
            "        16-20        8.163265\n",
            "        6-10        34.693878\n",
            "        มากกว่า 20   4.081633\n",
            "succeed 0-5         38.228942\n",
            "        11-15       12.526998\n",
            "        16-20        9.071274\n",
            "        6-10        27.861771\n",
            "        มากกว่า 20  12.311015\n",
            "['0-5' '11-15' '16-20' '6-10' 'มากกว่า 20']\n"
          ]
        },
        {
          "output_type": "stream",
          "name": "stderr",
          "text": [
            "/usr/local/lib/python3.7/dist-packages/matplotlib/backends/backend_agg.py:214: RuntimeWarning: Glyph 3617 missing from current font.\n",
            "  font.set_text(s, 0.0, flags=flags)\n",
            "/usr/local/lib/python3.7/dist-packages/matplotlib/backends/backend_agg.py:214: RuntimeWarning: Glyph 3634 missing from current font.\n",
            "  font.set_text(s, 0.0, flags=flags)\n",
            "/usr/local/lib/python3.7/dist-packages/matplotlib/backends/backend_agg.py:214: RuntimeWarning: Glyph 3585 missing from current font.\n",
            "  font.set_text(s, 0.0, flags=flags)\n",
            "/usr/local/lib/python3.7/dist-packages/matplotlib/backends/backend_agg.py:214: RuntimeWarning: Glyph 3623 missing from current font.\n",
            "  font.set_text(s, 0.0, flags=flags)\n",
            "/usr/local/lib/python3.7/dist-packages/matplotlib/backends/backend_agg.py:214: RuntimeWarning: Glyph 3656 missing from current font.\n",
            "  font.set_text(s, 0.0, flags=flags)\n",
            "/usr/local/lib/python3.7/dist-packages/matplotlib/backends/backend_agg.py:183: RuntimeWarning: Glyph 3617 missing from current font.\n",
            "  font.set_text(s, 0, flags=flags)\n",
            "/usr/local/lib/python3.7/dist-packages/matplotlib/backends/backend_agg.py:183: RuntimeWarning: Glyph 3634 missing from current font.\n",
            "  font.set_text(s, 0, flags=flags)\n",
            "/usr/local/lib/python3.7/dist-packages/matplotlib/backends/backend_agg.py:183: RuntimeWarning: Glyph 3585 missing from current font.\n",
            "  font.set_text(s, 0, flags=flags)\n",
            "/usr/local/lib/python3.7/dist-packages/matplotlib/backends/backend_agg.py:183: RuntimeWarning: Glyph 3623 missing from current font.\n",
            "  font.set_text(s, 0, flags=flags)\n",
            "/usr/local/lib/python3.7/dist-packages/matplotlib/backends/backend_agg.py:183: RuntimeWarning: Glyph 3656 missing from current font.\n",
            "  font.set_text(s, 0, flags=flags)\n"
          ]
        },
        {
          "output_type": "display_data",
          "data": {
            "text/plain": [
              "<Figure size 576x576 with 1 Axes>"
            ],
            "image/png": "[encoded data removed]"
          },
          "metadata": {
            "needs_background": "light"
          }
        }
      ]
    },
    {
      "cell_type": "code",
      "source": [
        "#group by success and EdLevel, and get a count of teachers for each group. \n",
        "#Then change the counting number into percentage. and display results as a stack bar plot"
      ],
      "metadata": {
        "id": "4QkiH6LesWlj"
      },
      "id": "4QkiH6LesWlj",
      "execution_count": null,
      "outputs": []
    },
    {
      "cell_type": "code",
      "source": [
        "df2 = df.groupby(['Success', 'EdLevel']).agg({'Username': 'count'}) #counting\n",
        "print(df2)\n",
        "df3 = df2.groupby(level=0).apply(lambda x:100 * x / float(x.sum())) #calcualte percentage\n",
        "print(df3)\n",
        "df3.unstack().plot(kind='bar',stacked=True,figsize=(8,8))\n",
        "plt.title(\"% by Education level\")\n",
        "plt.xlabel(\"Success\")\n",
        "plt.ylabel(\"percent\")\n",
        "#get a list of unique value in a column\n",
        "a = df['EdLevel'].unique()\n",
        "a.sort()\n",
        "print(a)\n",
        "for items in a:  #create legend \n",
        "  plt.legend(a)\n",
        "plt.show()"
      ],
      "metadata": {
        "colab": {
          "base_uri": "https://localhost:8080/",
          "height": 839
        },
        "id": "FPrewk0osguD",
        "outputId": "fddd4f4f-8f89-428d-eedf-133d580a50c1"
      },
      "id": "FPrewk0osguD",
      "execution_count": null,
      "outputs": [
        {
          "output_type": "stream",
          "name": "stdout",
          "text": [
            "                   Username\n",
            "Success EdLevel            \n",
            "dropout Bachelor         34\n",
            "        Master           15\n",
            "succeed Bachelor        292\n",
            "        Master          165\n",
            "        Phd               5\n",
            "        other             1\n",
            "                    Username\n",
            "Success EdLevel             \n",
            "dropout Bachelor   69.387755\n",
            "        Master     30.612245\n",
            "succeed Bachelor   63.066955\n",
            "        Master     35.637149\n",
            "        Phd         1.079914\n",
            "        other       0.215983\n",
            "['Bachelor ' 'Master' 'Phd' 'other']\n"
          ]
        },
        {
          "output_type": "display_data",
          "data": {
            "text/plain": [
              "<Figure size 576x576 with 1 Axes>"
            ],
            "image/png": "[encoded data removed]"
          },
          "metadata": {
            "needs_background": "light"
          }
        }
      ]
    },
    {
      "cell_type": "code",
      "source": [
        "#group by success and Teach_sub_gensci, and get a count of teachers for each group. \n",
        "#Then change the counting number into percentage. and display results as a stack bar plot"
      ],
      "metadata": {
        "id": "MLBca1bDskjs"
      },
      "id": "MLBca1bDskjs",
      "execution_count": null,
      "outputs": []
    },
    {
      "cell_type": "code",
      "source": [
        "df2 = df.groupby(['Success', 'Teach_sub_gensci']).agg({'Username': 'count'}) #counting\n",
        "print(df2)\n",
        "df3 = df2.groupby(level=0).apply(lambda x:100 * x / float(x.sum())) #calcualte percentage\n",
        "print(df3)\n",
        "df3.unstack().plot(kind='bar',stacked=True,figsize=(8,8))\n",
        "plt.title(\"% by Teaching general science subject\")\n",
        "plt.xlabel(\"Success\")\n",
        "plt.ylabel(\"percent\")\n",
        "#get a list of unique value in a column\n",
        "a = df['Teach_sub_gensci'].unique()\n",
        "a.sort()\n",
        "print(a)\n",
        "for items in a:  #create legend \n",
        "  plt.legend(a)\n",
        "plt.show()"
      ],
      "metadata": {
        "colab": {
          "base_uri": "https://localhost:8080/",
          "height": 770
        },
        "id": "pONyPREUshoL",
        "outputId": "076b9531-4566-4261-c339-48522bcabfc0"
      },
      "id": "pONyPREUshoL",
      "execution_count": null,
      "outputs": [
        {
          "output_type": "stream",
          "name": "stdout",
          "text": [
            "                          Username\n",
            "Success Teach_sub_gensci          \n",
            "dropout No                       9\n",
            "        Yes                     40\n",
            "succeed No                      67\n",
            "        Yes                    396\n",
            "                           Username\n",
            "Success Teach_sub_gensci           \n",
            "dropout No                18.367347\n",
            "        Yes               81.632653\n",
            "succeed No                14.470842\n",
            "        Yes               85.529158\n",
            "['No' 'Yes']\n"
          ]
        },
        {
          "output_type": "display_data",
          "data": {
            "text/plain": [
              "<Figure size 576x576 with 1 Axes>"
            ],
            "image/png": "[encoded data removed]"
          },
          "metadata": {
            "needs_background": "light"
          }
        }
      ]
    },
    {
      "cell_type": "code",
      "source": [
        "#group by success and Teach_level, and get a count of teachers for each group. \n",
        "#Then change the counting number into percentage. and display results as a stack bar plot"
      ],
      "metadata": {
        "id": "eSAe-FQzsrCc"
      },
      "id": "eSAe-FQzsrCc",
      "execution_count": null,
      "outputs": []
    },
    {
      "cell_type": "code",
      "source": [
        "df2 = df.groupby(['Success', 'Teach_level']).agg({'Username': 'count'}) #counting\n",
        "print(df2)\n",
        "df3 = df2.groupby(level=0).apply(lambda x:100 * x / float(x.sum())) #calcualte percentage\n",
        "print(df3)\n",
        "df3.unstack().plot(kind='bar',stacked=True,figsize=(8,8))\n",
        "plt.title(\"% by grade of teaching\")\n",
        "plt.xlabel(\"Success\")\n",
        "plt.ylabel(\"percent\")\n",
        "#get a list of unique value in a column\n",
        "a = df['Teach_level'].unique()\n",
        "a.sort()\n",
        "print(a)\n",
        "for items in a:  #create legend \n",
        "  plt.legend(a)\n",
        "plt.show()"
      ],
      "metadata": {
        "colab": {
          "base_uri": "https://localhost:8080/",
          "height": 839
        },
        "id": "YSVF5mxgswFU",
        "outputId": "6e19fbe6-1f99-4b45-b130-1691fd0f0ea9"
      },
      "id": "YSVF5mxgswFU",
      "execution_count": null,
      "outputs": [
        {
          "output_type": "stream",
          "name": "stdout",
          "text": [
            "                         Username\n",
            "Success Teach_level              \n",
            "dropout Other                   4\n",
            "        Primary                17\n",
            "        lower secondary        28\n",
            "succeed Other                  62\n",
            "        Primary               114\n",
            "        lower secondary       287\n",
            "                          Username\n",
            "Success Teach_level               \n",
            "dropout Other             8.163265\n",
            "        Primary          34.693878\n",
            "        lower secondary  57.142857\n",
            "succeed Other            13.390929\n",
            "        Primary          24.622030\n",
            "        lower secondary  61.987041\n",
            "['Other' 'Primary' 'lower secondary']\n"
          ]
        },
        {
          "output_type": "display_data",
          "data": {
            "text/plain": [
              "<Figure size 576x576 with 1 Axes>"
            ],
            "image/png": "[encoded data removed]"
          },
          "metadata": {
            "needs_background": "light"
          }
        }
      ]
    },
    {
      "cell_type": "code",
      "source": [
        "#group by success and M2_teacher, and get a count of teachers for each group. \n",
        "#Then change the counting number into percentage. and display results as a stack bar plot"
      ],
      "metadata": {
        "id": "ILJ9QkmmsybV"
      },
      "id": "ILJ9QkmmsybV",
      "execution_count": null,
      "outputs": []
    },
    {
      "cell_type": "code",
      "source": [
        "df2 = df.groupby(['Success', 'M2_teacher']).agg({'Username': 'count'}) #counting\n",
        "print(df2)\n",
        "df3 = df2.groupby(level=0).apply(lambda x:100 * x / float(x.sum())) #calcualte percentage\n",
        "print(df3)\n",
        "df3.unstack().plot(kind='bar',stacked=True,figsize=(8,8))\n",
        "plt.title(\"% by 8th grade teacher group\")\n",
        "plt.xlabel(\"Success\")\n",
        "plt.ylabel(\"percent\")\n",
        "#get a list of unique value in a column\n",
        "a = df['M2_teacher'].unique()\n",
        "a.sort()\n",
        "print(a)\n",
        "for items in a:  #create legend \n",
        "  plt.legend(a)\n",
        "plt.show()"
      ],
      "metadata": {
        "colab": {
          "base_uri": "https://localhost:8080/",
          "height": 770
        },
        "id": "tb4wj9GAs3kV",
        "outputId": "5e4e511a-8622-4c1b-a4cc-d6ee2fb145a8"
      },
      "id": "tb4wj9GAs3kV",
      "execution_count": null,
      "outputs": [
        {
          "output_type": "stream",
          "name": "stdout",
          "text": [
            "                    Username\n",
            "Success M2_teacher          \n",
            "dropout No                33\n",
            "        Yes               16\n",
            "succeed No               275\n",
            "        Yes              188\n",
            "                     Username\n",
            "Success M2_teacher           \n",
            "dropout No          67.346939\n",
            "        Yes         32.653061\n",
            "succeed No          59.395248\n",
            "        Yes         40.604752\n",
            "['No' 'Yes']\n"
          ]
        },
        {
          "output_type": "display_data",
          "data": {
            "text/plain": [
              "<Figure size 576x576 with 1 Axes>"
            ],
            "image/png": "[encoded data removed]"
          },
          "metadata": {
            "needs_background": "light"
          }
        }
      ]
    },
    {
      "cell_type": "code",
      "source": [
        "#group by success and Pre Test Level, and get a count of teachers for each group. \n",
        "#Then change the counting number into percentage. and display results as a stack bar plot"
      ],
      "metadata": {
        "id": "XszJyPums4UF"
      },
      "id": "XszJyPums4UF",
      "execution_count": null,
      "outputs": []
    },
    {
      "cell_type": "code",
      "source": [
        "df2 = df.groupby(['Success', 'Pre Test Level']).agg({'Username': 'count'}) #counting\n",
        "print(df2)\n",
        "df3 = df2.groupby(level=0).apply(lambda x:100 * x / float(x.sum())) #calcualte percentage\n",
        "print(df3)\n",
        "df3.unstack().plot(kind='bar',stacked=True,figsize=(8,8))\n",
        "plt.title(\"% by Buoyancy pre-test score level\")\n",
        "plt.xlabel(\"Success\")\n",
        "plt.ylabel(\"percent\")\n",
        "#get a list of unique value in a column\n",
        "a = df['Pre Test Level'].unique()\n",
        "a.sort()\n",
        "print(a)\n",
        "for items in a:  #create legend \n",
        "  plt.legend(a)\n",
        "plt.show()"
      ],
      "metadata": {
        "colab": {
          "base_uri": "https://localhost:8080/",
          "height": 770
        },
        "id": "qQYALCcqs-wN",
        "outputId": "6c94042c-6ef3-4a16-88d3-9591338ed030"
      },
      "id": "qQYALCcqs-wN",
      "execution_count": null,
      "outputs": [
        {
          "output_type": "stream",
          "name": "stdout",
          "text": [
            "                        Username\n",
            "Success Pre Test Level          \n",
            "dropout High Pretest          15\n",
            "        Low Pretest           34\n",
            "succeed High Pretest         191\n",
            "        Low Pretest          272\n",
            "                         Username\n",
            "Success Pre Test Level           \n",
            "dropout High Pretest    30.612245\n",
            "        Low Pretest     69.387755\n",
            "succeed High Pretest    41.252700\n",
            "        Low Pretest     58.747300\n",
            "['High Pretest' 'Low Pretest']\n"
          ]
        },
        {
          "output_type": "display_data",
          "data": {
            "text/plain": [
              "<Figure size 576x576 with 1 Axes>"
            ],
            "image/png": "[encoded data removed]"
          },
          "metadata": {
            "needs_background": "light"
          }
        }
      ]
    },
    {
      "cell_type": "code",
      "source": [
        "#group by success and Pre Self Efficacy Level, and get a count of teachers for each group. \n",
        "#Then change the counting number into percentage. and display results as a stack bar plot"
      ],
      "metadata": {
        "id": "j-RCjZIItAJV"
      },
      "id": "j-RCjZIItAJV",
      "execution_count": null,
      "outputs": []
    },
    {
      "cell_type": "code",
      "source": [
        "df2 = df.groupby(['Success', 'Pre Self Efficacy Level']).agg({'Username': 'count'}) #counting\n",
        "print(df2)\n",
        "df3 = df2.groupby(level=0).apply(lambda x:100 * x / float(x.sum())) #calcualte percentage\n",
        "print(df3)\n",
        "df3.unstack().plot(kind='bar',stacked=True,figsize=(8,8))\n",
        "plt.title(\"% by Self efficacy pre-test level\")\n",
        "plt.xlabel(\"Success\")\n",
        "plt.ylabel(\"percent\")\n",
        "#get a list of unique value in a column\n",
        "a = df['Pre Self Efficacy Level'].unique()\n",
        "a.sort()\n",
        "print(a)\n",
        "for items in a:  #create legend \n",
        "  plt.legend(a)\n",
        "plt.show()"
      ],
      "metadata": {
        "colab": {
          "base_uri": "https://localhost:8080/",
          "height": 770
        },
        "id": "CBOn-jwZtDpW",
        "outputId": "97fdab6b-7c59-4800-c128-294f5a7b70d6"
      },
      "id": "CBOn-jwZtDpW",
      "execution_count": null,
      "outputs": [
        {
          "output_type": "stream",
          "name": "stdout",
          "text": [
            "                                 Username\n",
            "Success Pre Self Efficacy Level          \n",
            "dropout High SelfEff                   23\n",
            "        Low SelfEff                    26\n",
            "succeed High SelfEff                  223\n",
            "        Low SelfEff                   240\n",
            "                                  Username\n",
            "Success Pre Self Efficacy Level           \n",
            "dropout High SelfEff             46.938776\n",
            "        Low SelfEff              53.061224\n",
            "succeed High SelfEff             48.164147\n",
            "        Low SelfEff              51.835853\n",
            "['High SelfEff' 'Low SelfEff']\n"
          ]
        },
        {
          "output_type": "display_data",
          "data": {
            "text/plain": [
              "<Figure size 576x576 with 1 Axes>"
            ],
            "image/png": "[encoded data removed]"
          },
          "metadata": {
            "needs_background": "light"
          }
        }
      ]
    },
    {
      "cell_type": "markdown",
      "id": "bd0fd694",
      "metadata": {
        "id": "bd0fd694"
      },
      "source": [
        "## Key Findings: Who failed and who succeeded?"
      ]
    },
    {
      "cell_type": "markdown",
      "id": "a4ab9073",
      "metadata": {
        "id": "a4ab9073"
      },
      "source": [
        "Description...\n",
        "1. There seems to be no difference in percentages of teachers who dropouted and succeeded in Major in physics and their self efficacy level.\n",
        "2. These variables; Educational background, teaching experience, Highest education level, teaching subject, teaching level, and pre-test score seemed to have impact on whether the participants will finish the course. \n",
        "  2.1 Teachers who have educational background in science related fields such as environment science, logistic tend not to dropout but teachers who has background in non-science such as Thai language dropped out more.\n",
        "  2.2 Teachers who have 6-10 years teaching experience seemed to drop out more.\n",
        "  2.3 Teachers who has higher degree in education tend not to drop out.\n",
        "  2.4 Teacher who are teaching general science subject, especialy in 8th grade tend to not drop out but teachers who are teaching in primary school tend to drop out.\n",
        "  2.5 Teachers who has higher scores in pre-test in buoyancy concept tend not to drop out.\n"
      ]
    },
    {
      "cell_type": "markdown",
      "source": [
        "#Asking the second hypothesis driven question"
      ],
      "metadata": {
        "id": "upU3hv2iIT9k"
      },
      "id": "upU3hv2iIT9k"
    },
    {
      "cell_type": "code",
      "source": [
        "#Working with one database\n",
        "#df_score = pd.read_excel('buoyancy_teacher_score.xlsx')"
      ],
      "metadata": {
        "id": "0f4yx4ErNhqI"
      },
      "id": "0f4yx4ErNhqI",
      "execution_count": null,
      "outputs": []
    },
    {
      "cell_type": "markdown",
      "metadata": {
        "id": "zl3jkRVVIOeu"
      },
      "source": [
        "\n",
        "## Data Preparation (Data Cleaning):\n"
      ],
      "id": "zl3jkRVVIOeu"
    },
    {
      "cell_type": "markdown",
      "metadata": {
        "id": "12LQNDWKIOeu"
      },
      "source": [
        "Description...\n",
        "1. Explore dataset and check for null value\n",
        "2. Drop null values"
      ],
      "id": "12LQNDWKIOeu"
    },
    {
      "cell_type": "markdown",
      "metadata": {
        "id": "ZngTrxE7IOev"
      },
      "source": [
        "#### Section 1 : Explore dataset and check for null value"
      ],
      "id": "ZngTrxE7IOev"
    },
    {
      "cell_type": "code",
      "execution_count": null,
      "metadata": {
        "colab": {
          "base_uri": "https://localhost:8080/"
        },
        "id": "M5J0LuZ9IOev",
        "outputId": "98ac8d46-67f0-4b95-cfa6-289cddd8b192"
      },
      "outputs": [
        {
          "output_type": "stream",
          "name": "stdout",
          "text": [
            "       Username  pretest_concept  posttest_noitem  posttest_concept  \\\n",
            "4      Nutchaya              5.0             17.0              15.0   \n",
            "5      Piyaporn              4.0             17.0              12.0   \n",
            "6  school123456              4.0             17.0              16.0   \n",
            "7      poompooy              7.0             17.0               8.0   \n",
            "8   Sangrawee28              7.0             17.0              10.0   \n",
            "\n",
            "   pre_selfefficacy  post_selfefficacy  \n",
            "4              71.0               76.0  \n",
            "5              63.0               72.0  \n",
            "6              60.0               64.0  \n",
            "7              51.0               64.0  \n",
            "8              67.0               80.0  \n",
            "---------------------\n",
            "(458, 6)\n",
            "---------------------\n",
            "<class 'pandas.core.frame.DataFrame'>\n",
            "Int64Index: 458 entries, 4 to 695\n",
            "Data columns (total 6 columns):\n",
            " #   Column             Non-Null Count  Dtype  \n",
            "---  ------             --------------  -----  \n",
            " 0   Username           458 non-null    object \n",
            " 1   pretest_concept    458 non-null    float64\n",
            " 2   posttest_noitem    458 non-null    float64\n",
            " 3   posttest_concept   458 non-null    float64\n",
            " 4   pre_selfefficacy   458 non-null    float64\n",
            " 5   post_selfefficacy  458 non-null    float64\n",
            "dtypes: float64(5), object(1)\n",
            "memory usage: 25.0+ KB\n",
            "None\n",
            "---------------------\n"
          ]
        },
        {
          "output_type": "execute_result",
          "data": {
            "text/plain": [
              "Username             0\n",
              "pretest_concept      0\n",
              "posttest_noitem      0\n",
              "posttest_concept     0\n",
              "pre_selfefficacy     0\n",
              "post_selfefficacy    0\n",
              "dtype: int64"
            ]
          },
          "metadata": {},
          "execution_count": 55
        }
      ],
      "source": [
        "print(df_score.head()) \n",
        "print(\"---------------------\")\n",
        "print(df_score.shape)\n",
        "print(\"---------------------\")\n",
        "print(df_score.info())\n",
        "print(\"---------------------\")\n",
        "df_score.isnull().sum()"
      ],
      "id": "M5J0LuZ9IOev"
    },
    {
      "cell_type": "markdown",
      "source": [
        "### Section 2 : Drop null values"
      ],
      "metadata": {
        "id": "2M4mHQLCIOev"
      },
      "id": "2M4mHQLCIOev"
    },
    {
      "cell_type": "code",
      "source": [
        "df_score.dropna(subset=['pretest_concept','posttest_concept','pre_selfefficacy','post_selfefficacy','posttest_noitem'], inplace=True)\n",
        "print(df_score.isnull().sum())"
      ],
      "metadata": {
        "colab": {
          "base_uri": "https://localhost:8080/"
        },
        "id": "fume13q9IOev",
        "outputId": "9eaf1c5d-b963-4a0f-dd1a-3c6b1ef84b71"
      },
      "execution_count": null,
      "outputs": [
        {
          "output_type": "stream",
          "name": "stdout",
          "text": [
            "Username             0\n",
            "pretest_concept      0\n",
            "posttest_noitem      0\n",
            "posttest_concept     0\n",
            "pre_selfefficacy     0\n",
            "post_selfefficacy    0\n",
            "dtype: int64\n"
          ]
        }
      ],
      "id": "fume13q9IOev"
    },
    {
      "cell_type": "markdown",
      "source": [
        "## Exploratory Data Analysis (EDA):"
      ],
      "metadata": {
        "id": "t5HEXhfiO3TQ"
      },
      "id": "t5HEXhfiO3TQ"
    },
    {
      "cell_type": "markdown",
      "source": [
        "Description...\n",
        "1. exploring simple statsitic and data distribution\n",
        "2. computing correlation coefficient and correlation graph\n",
        "3. comparing mean scores between pre-test and post-test"
      ],
      "metadata": {
        "id": "NY3GNSY5O8PB"
      },
      "id": "NY3GNSY5O8PB"
    },
    {
      "cell_type": "markdown",
      "source": [
        "###Section 1 : exploring simple statsitic and data distribution"
      ],
      "metadata": {
        "id": "PD6BiuqyPGR4"
      },
      "id": "PD6BiuqyPGR4"
    },
    {
      "cell_type": "code",
      "source": [
        "df_score.describe()"
      ],
      "metadata": {
        "colab": {
          "base_uri": "https://localhost:8080/",
          "height": 300
        },
        "id": "wefFiyEAPTZo",
        "outputId": "0cc44666-52c4-4b0e-91ac-c33d1825588e"
      },
      "id": "wefFiyEAPTZo",
      "execution_count": null,
      "outputs": [
        {
          "output_type": "execute_result",
          "data": {
            "text/plain": [
              "       pretest_concept  posttest_noitem  posttest_concept  pre_selfefficacy  \\\n",
              "count       458.000000       458.000000        458.000000        458.000000   \n",
              "mean          6.812227        16.980349         13.759825         63.436681   \n",
              "std           3.176036         0.313179          2.745030          6.448358   \n",
              "min           1.000000        11.000000          3.000000         47.000000   \n",
              "25%           5.000000        17.000000         12.000000         59.000000   \n",
              "50%           6.000000        17.000000         15.000000         63.000000   \n",
              "75%           8.000000        17.000000         16.000000         67.000000   \n",
              "max          16.000000        17.000000         16.000000         84.000000   \n",
              "\n",
              "       post_selfefficacy  \n",
              "count         458.000000  \n",
              "mean           69.443231  \n",
              "std             7.812214  \n",
              "min            51.000000  \n",
              "25%            64.000000  \n",
              "50%            69.000000  \n",
              "75%            75.000000  \n",
              "max            90.000000  "
            ],
            "text/html": [
              "\n",
              "  <div id=\"df-99d9ac64-f7ae-4c34-b069-08af6afd1ef8\">\n",
              "    <div class=\"colab-df-container\">\n",
              "      <div>\n",
              "<style scoped>\n",
              "    .dataframe tbody tr th:only-of-type {\n",
              "        vertical-align: middle;\n",
              "    }\n",
              "\n",
              "    .dataframe tbody tr th {\n",
              "        vertical-align: top;\n",
              "    }\n",
              "\n",
              "    .dataframe thead th {\n",
              "        text-align: right;\n",
              "    }\n",
              "</style>\n",
              "<table border=\"1\" class=\"dataframe\">\n",
              "  <thead>\n",
              "    <tr style=\"text-align: right;\">\n",
              "      <th></th>\n",
              "      <th>pretest_concept</th>\n",
              "      <th>posttest_noitem</th>\n",
              "      <th>posttest_concept</th>\n",
              "      <th>pre_selfefficacy</th>\n",
              "      <th>post_selfefficacy</th>\n",
              "    </tr>\n",
              "  </thead>\n",
              "  <tbody>\n",
              "    <tr>\n",
              "      <th>count</th>\n",
              "      <td>458.000000</td>\n",
              "      <td>458.000000</td>\n",
              "      <td>458.000000</td>\n",
              "      <td>458.000000</td>\n",
              "      <td>458.000000</td>\n",
              "    </tr>\n",
              "    <tr>\n",
              "      <th>mean</th>\n",
              "      <td>6.812227</td>\n",
              "      <td>16.980349</td>\n",
              "      <td>13.759825</td>\n",
              "      <td>63.436681</td>\n",
              "      <td>69.443231</td>\n",
              "    </tr>\n",
              "    <tr>\n",
              "      <th>std</th>\n",
              "      <td>3.176036</td>\n",
              "      <td>0.313179</td>\n",
              "      <td>2.745030</td>\n",
              "      <td>6.448358</td>\n",
              "      <td>7.812214</td>\n",
              "    </tr>\n",
              "    <tr>\n",
              "      <th>min</th>\n",
              "      <td>1.000000</td>\n",
              "      <td>11.000000</td>\n",
              "      <td>3.000000</td>\n",
              "      <td>47.000000</td>\n",
              "      <td>51.000000</td>\n",
              "    </tr>\n",
              "    <tr>\n",
              "      <th>25%</th>\n",
              "      <td>5.000000</td>\n",
              "      <td>17.000000</td>\n",
              "      <td>12.000000</td>\n",
              "      <td>59.000000</td>\n",
              "      <td>64.000000</td>\n",
              "    </tr>\n",
              "    <tr>\n",
              "      <th>50%</th>\n",
              "      <td>6.000000</td>\n",
              "      <td>17.000000</td>\n",
              "      <td>15.000000</td>\n",
              "      <td>63.000000</td>\n",
              "      <td>69.000000</td>\n",
              "    </tr>\n",
              "    <tr>\n",
              "      <th>75%</th>\n",
              "      <td>8.000000</td>\n",
              "      <td>17.000000</td>\n",
              "      <td>16.000000</td>\n",
              "      <td>67.000000</td>\n",
              "      <td>75.000000</td>\n",
              "    </tr>\n",
              "    <tr>\n",
              "      <th>max</th>\n",
              "      <td>16.000000</td>\n",
              "      <td>17.000000</td>\n",
              "      <td>16.000000</td>\n",
              "      <td>84.000000</td>\n",
              "      <td>90.000000</td>\n",
              "    </tr>\n",
              "  </tbody>\n",
              "</table>\n",
              "</div>\n",
              "      <button class=\"colab-df-convert\" onclick=\"convertToInteractive('df-99d9ac64-f7ae-4c34-b069-08af6afd1ef8')\"\n",
              "              title=\"Convert this dataframe to an interactive table.\"\n",
              "              style=\"display:none;\">\n",
              "        \n",
              "  <svg xmlns=\"http://www.w3.org/2000/svg\" height=\"24px\"viewBox=\"0 0 24 24\"\n",
              "       width=\"24px\">\n",
              "    <path d=\"M0 0h24v24H0V0z\" fill=\"none\"/>\n",
              "    <path d=\"M18.56 5.44l.94 2.06.94-2.06 2.06-.94-2.06-.94-.94-2.06-.94 2.06-2.06.94zm-11 1L8.5 8.5l.94-2.06 2.06-.94-2.06-.94L8.5 2.5l-.94 2.06-2.06.94zm10 10l.94 2.06.94-2.06 2.06-.94-2.06-.94-.94-2.06-.94 2.06-2.06.94z\"/><path d=\"M17.41 7.96l-1.37-1.37c-.4-.4-.92-.59-1.43-.59-.52 0-1.04.2-1.43.59L10.3 9.45l-7.72 7.72c-.78.78-.78 2.05 0 2.83L4 21.41c.39.39.9.59 1.41.59.51 0 1.02-.2 1.41-.59l7.78-7.78 2.81-2.81c.8-.78.8-2.07 0-2.86zM5.41 20L4 18.59l7.72-7.72 1.47 1.35L5.41 20z\"/>\n",
              "  </svg>\n",
              "      </button>\n",
              "      \n",
              "  <style>\n",
              "    .colab-df-container {\n",
              "      display:flex;\n",
              "      flex-wrap:wrap;\n",
              "      gap: 12px;\n",
              "    }\n",
              "\n",
              "    .colab-df-convert {\n",
              "      background-color: #E8F0FE;\n",
              "      border: none;\n",
              "      border-radius: 50%;\n",
              "      cursor: pointer;\n",
              "      display: none;\n",
              "      fill: #1967D2;\n",
              "      height: 32px;\n",
              "      padding: 0 0 0 0;\n",
              "      width: 32px;\n",
              "    }\n",
              "\n",
              "    .colab-df-convert:hover {\n",
              "      background-color: #E2EBFA;\n",
              "      box-shadow: 0px 1px 2px rgba(60, 64, 67, 0.3), 0px 1px 3px 1px rgba(60, 64, 67, 0.15);\n",
              "      fill: #174EA6;\n",
              "    }\n",
              "\n",
              "    [theme=dark] .colab-df-convert {\n",
              "      background-color: #3B4455;\n",
              "      fill: #D2E3FC;\n",
              "    }\n",
              "\n",
              "    [theme=dark] .colab-df-convert:hover {\n",
              "      background-color: #434B5C;\n",
              "      box-shadow: 0px 1px 3px 1px rgba(0, 0, 0, 0.15);\n",
              "      filter: drop-shadow(0px 1px 2px rgba(0, 0, 0, 0.3));\n",
              "      fill: #FFFFFF;\n",
              "    }\n",
              "  </style>\n",
              "\n",
              "      <script>\n",
              "        const buttonEl =\n",
              "          document.querySelector('#df-99d9ac64-f7ae-4c34-b069-08af6afd1ef8 button.colab-df-convert');\n",
              "        buttonEl.style.display =\n",
              "          google.colab.kernel.accessAllowed ? 'block' : 'none';\n",
              "\n",
              "        async function convertToInteractive(key) {\n",
              "          const element = document.querySelector('#df-99d9ac64-f7ae-4c34-b069-08af6afd1ef8');\n",
              "          const dataTable =\n",
              "            await google.colab.kernel.invokeFunction('convertToInteractive',\n",
              "                                                     [key], {});\n",
              "          if (!dataTable) return;\n",
              "\n",
              "          const docLinkHtml = 'Like what you see? Visit the ' +\n",
              "            '<a target=\"_blank\" href=https://colab.research.google.com/notebooks/data_table.ipynb>data table notebook</a>'\n",
              "            + ' to learn more about interactive tables.';\n",
              "          element.innerHTML = '';\n",
              "          dataTable['output_type'] = 'display_data';\n",
              "          await google.colab.output.renderOutput(dataTable, element);\n",
              "          const docLink = document.createElement('div');\n",
              "          docLink.innerHTML = docLinkHtml;\n",
              "          element.appendChild(docLink);\n",
              "        }\n",
              "      </script>\n",
              "    </div>\n",
              "  </div>\n",
              "  "
            ]
          },
          "metadata": {},
          "execution_count": 26
        }
      ]
    },
    {
      "cell_type": "code",
      "source": [
        "df_score['pretest_concept'].plot(kind = 'hist')\n",
        "plt.show()"
      ],
      "metadata": {
        "colab": {
          "base_uri": "https://localhost:8080/",
          "height": 265
        },
        "id": "MKj-y3S4PXjY",
        "outputId": "dd32ebe4-fe72-423f-987d-1981cd6ea008"
      },
      "id": "MKj-y3S4PXjY",
      "execution_count": null,
      "outputs": [
        {
          "output_type": "display_data",
          "data": {
            "text/plain": [
              "<Figure size 432x288 with 1 Axes>"
            ],
            "image/png": "[encoded data removed]"
          },
          "metadata": {}
        }
      ]
    },
    {
      "cell_type": "code",
      "source": [
        "df_score['posttest_concept'].plot(kind = 'hist')\n",
        "plt.show()"
      ],
      "metadata": {
        "colab": {
          "base_uri": "https://localhost:8080/",
          "height": 266
        },
        "id": "cTvx5H8dPaVI",
        "outputId": "4c51e4e3-f8a4-43c6-dfef-cd4024b32bd1"
      },
      "id": "cTvx5H8dPaVI",
      "execution_count": null,
      "outputs": [
        {
          "output_type": "display_data",
          "data": {
            "text/plain": [
              "<Figure size 432x288 with 1 Axes>"
            ],
            "image/png": "[encoded data removed]"
          },
          "metadata": {}
        }
      ]
    },
    {
      "cell_type": "code",
      "source": [
        "df_score['pre_selfefficacy'].plot(kind = 'hist')\n",
        "plt.show()"
      ],
      "metadata": {
        "colab": {
          "base_uri": "https://localhost:8080/",
          "height": 265
        },
        "id": "Go8ZpBVIPgAY",
        "outputId": "67f9f8b4-6967-4734-8ddf-a713f61060ee"
      },
      "id": "Go8ZpBVIPgAY",
      "execution_count": null,
      "outputs": [
        {
          "output_type": "display_data",
          "data": {
            "text/plain": [
              "<Figure size 432x288 with 1 Axes>"
            ],
            "image/png": "[encoded data removed]"
          },
          "metadata": {}
        }
      ]
    },
    {
      "cell_type": "code",
      "source": [
        "df_score['post_selfefficacy'].plot(kind = 'hist')\n",
        "plt.show()"
      ],
      "metadata": {
        "colab": {
          "base_uri": "https://localhost:8080/",
          "height": 265
        },
        "id": "55Cyq6aTPiTo",
        "outputId": "b83f52b7-63e7-4925-8c94-f58a840487e9"
      },
      "id": "55Cyq6aTPiTo",
      "execution_count": null,
      "outputs": [
        {
          "output_type": "display_data",
          "data": {
            "text/plain": [
              "<Figure size 432x288 with 1 Axes>"
            ],
            "image/png": "[encoded data removed]"
          },
          "metadata": {}
        }
      ]
    },
    {
      "cell_type": "code",
      "source": [
        "y= df_score['pretest_concept'].mean()\n",
        "PretestCondition = [\n",
        "    (df_score['pretest_concept'] < y),\n",
        "    (df_score['pretest_concept'] >= y)\n",
        "]\n",
        "value = ['Low Pretest','High Pretest']\n",
        "df_score['Pre Test Level'] = np.select(PretestCondition,value)\n",
        "print(df_score.sample(10))\n",
        "print(\"---------------------\")\n",
        "df_score.value_counts('Pre Test Level')"
      ],
      "metadata": {
        "colab": {
          "base_uri": "https://localhost:8080/"
        },
        "outputId": "51bb0178-7c53-4406-befd-777ff060a297",
        "id": "WleNcF0hhZy7"
      },
      "execution_count": null,
      "outputs": [
        {
          "output_type": "stream",
          "name": "stdout",
          "text": [
            "                   Username  pretest_concept  posttest_noitem  \\\n",
            "680             mayuree2510             16.0             17.0   \n",
            "497     desuka__hotmail_com              NaN              NaN   \n",
            "138                swanlika              6.0             17.0   \n",
            "419   apinya12344_gmail_com              5.0             17.0   \n",
            "633              atikan2535              NaN              NaN   \n",
            "355      pakapanm_gmail_com              7.0             17.0   \n",
            "362              sutisa0843              8.0              NaN   \n",
            "200                 lek6886              8.0             17.0   \n",
            "613           metta12122525              8.0             17.0   \n",
            "473  wanpen271985_gmail_com              NaN              NaN   \n",
            "\n",
            "     posttest_concept  pre_selfefficacy  post_selfefficacy Pre Test Level  \n",
            "680              11.0              61.0               62.0   High Pretest  \n",
            "497               NaN              66.0                NaN              0  \n",
            "138              14.0              50.0               54.0    Low Pretest  \n",
            "419              16.0              54.0               65.0    Low Pretest  \n",
            "633               NaN              68.0                NaN              0  \n",
            "355              12.0              63.0               76.0   High Pretest  \n",
            "362               NaN              55.0                NaN   High Pretest  \n",
            "200              16.0              57.0               70.0   High Pretest  \n",
            "613              16.0              61.0               60.0   High Pretest  \n",
            "473               NaN              67.0                NaN              0  \n",
            "---------------------\n"
          ]
        },
        {
          "output_type": "execute_result",
          "data": {
            "text/plain": [
              "Pre Test Level\n",
              "Low Pretest     390\n",
              "High Pretest    245\n",
              "0                61\n",
              "dtype: int64"
            ]
          },
          "metadata": {},
          "execution_count": 94
        }
      ],
      "id": "WleNcF0hhZy7"
    },
    {
      "cell_type": "markdown",
      "source": [
        "###Section 2 : computing correlation coefficient and correlation graph"
      ],
      "metadata": {
        "id": "7Z67uT9BP2G8"
      },
      "id": "7Z67uT9BP2G8"
    },
    {
      "cell_type": "code",
      "source": [
        "#computing correlation coefficient \n",
        "features=list(['pretest_concept','posttest_concept','pre_selfefficacy','post_selfefficacy'])\n",
        "df_score[features].corr()"
      ],
      "metadata": {
        "colab": {
          "base_uri": "https://localhost:8080/",
          "height": 175
        },
        "id": "T5PgDzdUP-Vd",
        "outputId": "e3ac6b9e-46b1-48de-c199-b211822a33c2"
      },
      "id": "T5PgDzdUP-Vd",
      "execution_count": null,
      "outputs": [
        {
          "output_type": "execute_result",
          "data": {
            "text/plain": [
              "                   pretest_concept  posttest_concept  pre_selfefficacy  \\\n",
              "pretest_concept           1.000000          0.200876          0.168125   \n",
              "posttest_concept          0.200876          1.000000          0.145752   \n",
              "pre_selfefficacy          0.168125          0.145752          1.000000   \n",
              "post_selfefficacy         0.106810          0.197113          0.556965   \n",
              "\n",
              "                   post_selfefficacy  \n",
              "pretest_concept             0.106810  \n",
              "posttest_concept            0.197113  \n",
              "pre_selfefficacy            0.556965  \n",
              "post_selfefficacy           1.000000  "
            ],
            "text/html": [
              "\n",
              "  <div id=\"df-36db94c7-1ba6-4ce4-80d3-94580e30f20d\">\n",
              "    <div class=\"colab-df-container\">\n",
              "      <div>\n",
              "<style scoped>\n",
              "    .dataframe tbody tr th:only-of-type {\n",
              "        vertical-align: middle;\n",
              "    }\n",
              "\n",
              "    .dataframe tbody tr th {\n",
              "        vertical-align: top;\n",
              "    }\n",
              "\n",
              "    .dataframe thead th {\n",
              "        text-align: right;\n",
              "    }\n",
              "</style>\n",
              "<table border=\"1\" class=\"dataframe\">\n",
              "  <thead>\n",
              "    <tr style=\"text-align: right;\">\n",
              "      <th></th>\n",
              "      <th>pretest_concept</th>\n",
              "      <th>posttest_concept</th>\n",
              "      <th>pre_selfefficacy</th>\n",
              "      <th>post_selfefficacy</th>\n",
              "    </tr>\n",
              "  </thead>\n",
              "  <tbody>\n",
              "    <tr>\n",
              "      <th>pretest_concept</th>\n",
              "      <td>1.000000</td>\n",
              "      <td>0.200876</td>\n",
              "      <td>0.168125</td>\n",
              "      <td>0.106810</td>\n",
              "    </tr>\n",
              "    <tr>\n",
              "      <th>posttest_concept</th>\n",
              "      <td>0.200876</td>\n",
              "      <td>1.000000</td>\n",
              "      <td>0.145752</td>\n",
              "      <td>0.197113</td>\n",
              "    </tr>\n",
              "    <tr>\n",
              "      <th>pre_selfefficacy</th>\n",
              "      <td>0.168125</td>\n",
              "      <td>0.145752</td>\n",
              "      <td>1.000000</td>\n",
              "      <td>0.556965</td>\n",
              "    </tr>\n",
              "    <tr>\n",
              "      <th>post_selfefficacy</th>\n",
              "      <td>0.106810</td>\n",
              "      <td>0.197113</td>\n",
              "      <td>0.556965</td>\n",
              "      <td>1.000000</td>\n",
              "    </tr>\n",
              "  </tbody>\n",
              "</table>\n",
              "</div>\n",
              "      <button class=\"colab-df-convert\" onclick=\"convertToInteractive('df-36db94c7-1ba6-4ce4-80d3-94580e30f20d')\"\n",
              "              title=\"Convert this dataframe to an interactive table.\"\n",
              "              style=\"display:none;\">\n",
              "        \n",
              "  <svg xmlns=\"http://www.w3.org/2000/svg\" height=\"24px\"viewBox=\"0 0 24 24\"\n",
              "       width=\"24px\">\n",
              "    <path d=\"M0 0h24v24H0V0z\" fill=\"none\"/>\n",
              "    <path d=\"M18.56 5.44l.94 2.06.94-2.06 2.06-.94-2.06-.94-.94-2.06-.94 2.06-2.06.94zm-11 1L8.5 8.5l.94-2.06 2.06-.94-2.06-.94L8.5 2.5l-.94 2.06-2.06.94zm10 10l.94 2.06.94-2.06 2.06-.94-2.06-.94-.94-2.06-.94 2.06-2.06.94z\"/><path d=\"M17.41 7.96l-1.37-1.37c-.4-.4-.92-.59-1.43-.59-.52 0-1.04.2-1.43.59L10.3 9.45l-7.72 7.72c-.78.78-.78 2.05 0 2.83L4 21.41c.39.39.9.59 1.41.59.51 0 1.02-.2 1.41-.59l7.78-7.78 2.81-2.81c.8-.78.8-2.07 0-2.86zM5.41 20L4 18.59l7.72-7.72 1.47 1.35L5.41 20z\"/>\n",
              "  </svg>\n",
              "      </button>\n",
              "      \n",
              "  <style>\n",
              "    .colab-df-container {\n",
              "      display:flex;\n",
              "      flex-wrap:wrap;\n",
              "      gap: 12px;\n",
              "    }\n",
              "\n",
              "    .colab-df-convert {\n",
              "      background-color: #E8F0FE;\n",
              "      border: none;\n",
              "      border-radius: 50%;\n",
              "      cursor: pointer;\n",
              "      display: none;\n",
              "      fill: #1967D2;\n",
              "      height: 32px;\n",
              "      padding: 0 0 0 0;\n",
              "      width: 32px;\n",
              "    }\n",
              "\n",
              "    .colab-df-convert:hover {\n",
              "      background-color: #E2EBFA;\n",
              "      box-shadow: 0px 1px 2px rgba(60, 64, 67, 0.3), 0px 1px 3px 1px rgba(60, 64, 67, 0.15);\n",
              "      fill: #174EA6;\n",
              "    }\n",
              "\n",
              "    [theme=dark] .colab-df-convert {\n",
              "      background-color: #3B4455;\n",
              "      fill: #D2E3FC;\n",
              "    }\n",
              "\n",
              "    [theme=dark] .colab-df-convert:hover {\n",
              "      background-color: #434B5C;\n",
              "      box-shadow: 0px 1px 3px 1px rgba(0, 0, 0, 0.15);\n",
              "      filter: drop-shadow(0px 1px 2px rgba(0, 0, 0, 0.3));\n",
              "      fill: #FFFFFF;\n",
              "    }\n",
              "  </style>\n",
              "\n",
              "      <script>\n",
              "        const buttonEl =\n",
              "          document.querySelector('#df-36db94c7-1ba6-4ce4-80d3-94580e30f20d button.colab-df-convert');\n",
              "        buttonEl.style.display =\n",
              "          google.colab.kernel.accessAllowed ? 'block' : 'none';\n",
              "\n",
              "        async function convertToInteractive(key) {\n",
              "          const element = document.querySelector('#df-36db94c7-1ba6-4ce4-80d3-94580e30f20d');\n",
              "          const dataTable =\n",
              "            await google.colab.kernel.invokeFunction('convertToInteractive',\n",
              "                                                     [key], {});\n",
              "          if (!dataTable) return;\n",
              "\n",
              "          const docLinkHtml = 'Like what you see? Visit the ' +\n",
              "            '<a target=\"_blank\" href=https://colab.research.google.com/notebooks/data_table.ipynb>data table notebook</a>'\n",
              "            + ' to learn more about interactive tables.';\n",
              "          element.innerHTML = '';\n",
              "          dataTable['output_type'] = 'display_data';\n",
              "          await google.colab.output.renderOutput(dataTable, element);\n",
              "          const docLink = document.createElement('div');\n",
              "          docLink.innerHTML = docLinkHtml;\n",
              "          element.appendChild(docLink);\n",
              "        }\n",
              "      </script>\n",
              "    </div>\n",
              "  </div>\n",
              "  "
            ]
          },
          "metadata": {},
          "execution_count": 59
        }
      ]
    },
    {
      "cell_type": "code",
      "source": [
        "df_score.plot(kind = 'scatter',figsize=(8,8), x = 'pretest_concept', y = 'posttest_concept')\n",
        "plt.show()"
      ],
      "metadata": {
        "colab": {
          "base_uri": "https://localhost:8080/",
          "height": 500
        },
        "id": "KB3TyABqQJS3",
        "outputId": "f6361f58-9970-4503-db88-7c633638daa2"
      },
      "id": "KB3TyABqQJS3",
      "execution_count": null,
      "outputs": [
        {
          "output_type": "display_data",
          "data": {
            "text/plain": [
              "<Figure size 576x576 with 1 Axes>"
            ],
            "image/png": "[encoded data removed]"
          },
          "metadata": {}
        }
      ]
    },
    {
      "cell_type": "code",
      "source": [
        "df_score.plot(kind = 'scatter',figsize=(8,8), x = 'pre_selfefficacy', y = 'post_selfefficacy')\n",
        "plt.show()"
      ],
      "metadata": {
        "colab": {
          "base_uri": "https://localhost:8080/",
          "height": 500
        },
        "id": "kC3iF7HpQMOH",
        "outputId": "65677420-a4de-4fc8-abd5-429f450cf351"
      },
      "id": "kC3iF7HpQMOH",
      "execution_count": null,
      "outputs": [
        {
          "output_type": "display_data",
          "data": {
            "text/plain": [
              "<Figure size 576x576 with 1 Axes>"
            ],
            "image/png": "[encoded data removed]"
          },
          "metadata": {}
        }
      ]
    },
    {
      "cell_type": "code",
      "source": [
        "df_score.plot(kind = 'scatter',figsize=(8,8), x = 'pretest_concept', y = 'pre_selfefficacy')\n",
        "plt.show()"
      ],
      "metadata": {
        "colab": {
          "base_uri": "https://localhost:8080/",
          "height": 500
        },
        "id": "8IShdzNFQQq_",
        "outputId": "865d02ba-58cb-4612-8390-1e8aceda165f"
      },
      "id": "8IShdzNFQQq_",
      "execution_count": null,
      "outputs": [
        {
          "output_type": "display_data",
          "data": {
            "text/plain": [
              "<Figure size 576x576 with 1 Axes>"
            ],
            "image/png": "[encoded data removed]"
          },
          "metadata": {}
        }
      ]
    },
    {
      "cell_type": "code",
      "source": [
        "df_score.plot(kind = 'scatter',figsize=(8,8), x = 'posttest_concept', y = 'post_selfefficacy')\n",
        "plt.show()"
      ],
      "metadata": {
        "colab": {
          "base_uri": "https://localhost:8080/",
          "height": 500
        },
        "id": "Yx4l-7M1QWLb",
        "outputId": "693caa3a-b79b-4861-a542-de417de1bcbd"
      },
      "id": "Yx4l-7M1QWLb",
      "execution_count": null,
      "outputs": [
        {
          "output_type": "display_data",
          "data": {
            "text/plain": [
              "<Figure size 576x576 with 1 Axes>"
            ],
            "image/png": "[encoded data removed]"
          },
          "metadata": {}
        }
      ]
    },
    {
      "cell_type": "markdown",
      "source": [
        "###Section 3: comparing mean scores between pre-test and post-test"
      ],
      "metadata": {
        "id": "-na14LcCQbkM"
      },
      "id": "-na14LcCQbkM"
    },
    {
      "cell_type": "code",
      "source": [
        "#calculate mean scores\n",
        "A= df_score['pretest_concept'].mean()\n",
        "B= df_score['posttest_concept'].mean()\n",
        "C= df_score['pre_selfefficacy'].mean()\n",
        "D= df_score['post_selfefficacy'].mean()\n",
        "print(A,B,C,D)"
      ],
      "metadata": {
        "colab": {
          "base_uri": "https://localhost:8080/"
        },
        "id": "bfUeCtyJQbE7",
        "outputId": "1eda5656-d3d7-45f6-b9b3-650de3ff677f"
      },
      "id": "bfUeCtyJQbE7",
      "execution_count": null,
      "outputs": [
        {
          "output_type": "stream",
          "name": "stdout",
          "text": [
            "6.812227074235808 13.759825327510917 63.43668122270742 69.44323144104804\n"
          ]
        }
      ]
    },
    {
      "cell_type": "code",
      "source": [
        "data = {\n",
        "\"Pretest\": [A, C],\n",
        "\"Posttest\": [B,D]\n",
        "}\n",
        "df_mean = pd.DataFrame(data, index = [\"Concept\", \"Self Efficacy\"])\n",
        "print(df_mean)"
      ],
      "metadata": {
        "colab": {
          "base_uri": "https://localhost:8080/"
        },
        "id": "OQTuuk3STCuH",
        "outputId": "69dd4d5b-1cdf-4904-c7fb-8ecc116593d8"
      },
      "id": "OQTuuk3STCuH",
      "execution_count": null,
      "outputs": [
        {
          "output_type": "stream",
          "name": "stdout",
          "text": [
            "                 Pretest   Posttest\n",
            "Concept         6.812227  13.759825\n",
            "Self Efficacy  63.436681  69.443231\n"
          ]
        }
      ]
    },
    {
      "cell_type": "code",
      "source": [
        "#perform independent two sample t-test\n",
        "from scipy.stats import ttest_rel\n",
        "ttest_rel(df_score['pretest_concept'], df_score['posttest_concept'])"
      ],
      "metadata": {
        "colab": {
          "base_uri": "https://localhost:8080/"
        },
        "id": "q8orLZVfj-Oc",
        "outputId": "a15b2706-052c-4c62-a4c8-7ba3e8549ce0"
      },
      "id": "q8orLZVfj-Oc",
      "execution_count": null,
      "outputs": [
        {
          "output_type": "execute_result",
          "data": {
            "text/plain": [
              "Ttest_relResult(statistic=-39.568845019122485, pvalue=1.0301707138794765e-149)"
            ]
          },
          "metadata": {},
          "execution_count": 42
        }
      ]
    },
    {
      "cell_type": "code",
      "source": [
        "ttest_rel(df_score['pre_selfefficacy'], df_score['post_selfefficacy']) #perform independent two sample t-test"
      ],
      "metadata": {
        "colab": {
          "base_uri": "https://localhost:8080/"
        },
        "id": "VjNl7QH1k-cH",
        "outputId": "089e1c07-408e-49cd-ade0-9797757436f0"
      },
      "id": "VjNl7QH1k-cH",
      "execution_count": null,
      "outputs": [
        {
          "output_type": "execute_result",
          "data": {
            "text/plain": [
              "Ttest_relResult(statistic=-18.851543041212896, pvalue=4.579897050695367e-59)"
            ]
          },
          "metadata": {},
          "execution_count": 43
        }
      ]
    },
    {
      "cell_type": "code",
      "source": [
        "#ploting bar graph comparing mean score\n",
        "Pre = [A,C]\n",
        "Post = [B,D]\n",
        "n = 2\n",
        "r = np.arange(n)\n",
        "width = 0.25\n",
        "plt.style.use('ggplot')\n",
        "plt.bar(r, Pre, color = 'b',\n",
        "        width = width, edgecolor = 'black',\n",
        "        label='Pre')\n",
        "plt.bar(r + width, Post, color = 'g',\n",
        "        width = width, edgecolor = 'black',\n",
        "        label='Post')\n",
        "  \n",
        "plt.xlabel(\"Test\")\n",
        "plt.ylabel(\"Score\")\n",
        "plt.title(\"Comparing mean score\")\n",
        "  \n",
        "# plt.grid(linestyle='--')\n",
        "plt.xticks(r + width/2,['Buoyancy concept','Self Efficacy'])\n",
        "plt.legend()\n",
        "  \n",
        "plt.show()"
      ],
      "metadata": {
        "colab": {
          "base_uri": "https://localhost:8080/",
          "height": 299
        },
        "id": "ikYNEgRBQ1o7",
        "outputId": "808dc5f0-b299-4346-ea70-0a5ea8a1570d"
      },
      "id": "ikYNEgRBQ1o7",
      "execution_count": null,
      "outputs": [
        {
          "output_type": "display_data",
          "data": {
            "text/plain": [
              "<Figure size 432x288 with 1 Axes>"
            ],
            "image/png": "[encoded data removed]"
          },
          "metadata": {}
        }
      ]
    },
    {
      "cell_type": "markdown",
      "metadata": {
        "id": "oeiiCBbJSbIM"
      },
      "source": [
        "## Key Findings: Does the course help teachers improve?"
      ],
      "id": "oeiiCBbJSbIM"
    },
    {
      "cell_type": "markdown",
      "metadata": {
        "id": "-b9-pJuGSbIM"
      },
      "source": [
        "Description...\n",
        "1. Both teachers' content knowledge and self efficacy improve after finished the course\n",
        "2. There is medium correlation between teachers's pre and post self efficacy"
      ],
      "id": "-b9-pJuGSbIM"
    },
    {
      "cell_type": "markdown",
      "source": [
        "##recommendation"
      ],
      "metadata": {
        "id": "DTTnzmGjUjuv"
      },
      "id": "DTTnzmGjUjuv"
    },
    {
      "cell_type": "markdown",
      "id": "31c9acd3",
      "metadata": {
        "id": "31c9acd3"
      },
      "source": [
        "Description..\n",
        "The course is helpful but too difficult for some group of participants.\n",
        "There seems to be indicatations implying that the online professional development about buoyancy is difficult to some group of teachers, thus we reccommend that \n",
        "1. clearly specify and highlight the purposes and intended audiences of the course.\n",
        "2. use pre-test scores of the buoyancy concept as prerequisite. Only teachers who pass the cut scores can attend this course.\n",
        "3. improve scaffolding structure of the course \n",
        "4. idevelop an alternative course  with simpler concept, more scaffolding and more helps during lesson \n",
        "5. gather more evidences \n"
      ]
    },
    {
      "cell_type": "markdown",
      "id": "a0252c39",
      "metadata": {
        "id": "a0252c39"
      },
      "source": [
        "<div class=\"alert alert-info\">\n",
        "<h3>Financial Benefit:</h3>\n",
        "</div>"
      ]
    },
    {
      "cell_type": "markdown",
      "id": "d8bb0f91",
      "metadata": {
        "id": "d8bb0f91"
      },
      "source": [
        "Description...\n"
      ]
    },
    {
      "cell_type": "markdown",
      "id": "d0a865d9",
      "metadata": {
        "id": "d0a865d9"
      },
      "source": [
        "<div class=\"alert alert-info\">\n",
        "<h3>Non-Financial Benefit:</h3>\n",
        "</div>"
      ]
    },
    {
      "cell_type": "markdown",
      "id": "0b3b9de0",
      "metadata": {
        "id": "0b3b9de0"
      },
      "source": [
        "Description...\n",
        "1. save time for at-risk of dropping out participants"
      ]
    }
  ],
  "metadata": {
    "kernelspec": {
      "display_name": "Python 3",
      "language": "python",
      "name": "python3"
    },
    "language_info": {
      "codemirror_mode": {
        "name": "ipython",
        "version": 3
      },
      "file_extension": ".py",
      "mimetype": "text/x-python",
      "name": "python",
      "nbconvert_exporter": "python",
      "pygments_lexer": "ipython3",
      "version": "3.7.3"
    },
    "varInspector": {
      "cols": {
        "lenName": 16,
        "lenType": 16,
        "lenVar": 40
      },
      "kernels_config": {
        "python": {
          "delete_cmd_postfix": "",
          "delete_cmd_prefix": "del ",
          "library": "var_list.py",
          "varRefreshCmd": "print(var_dic_list())"
        },
        "r": {
          "delete_cmd_postfix": ") ",
          "delete_cmd_prefix": "rm(",
          "library": "var_list.r",
          "varRefreshCmd": "cat(var_dic_list()) "
        }
      },
      "types_to_exclude": [
        "module",
        "function",
        "builtin_function_or_method",
        "instance",
        "_Feature"
      ],
      "window_display": false
    },
    "colab": {
      "name": "Project_Template_PYT06 Niphon Chanlen.ipynb",
      "provenance": [],
      "collapsed_sections": [
        "hmEFKqbLpwmZ"
      ]
    }
  },
  "nbformat": 4,
  "nbformat_minor": 5
}