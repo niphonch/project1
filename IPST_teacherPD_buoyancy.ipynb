{
 "cells": [
  {
   "cell_type": "markdown",
   "id": "2c4d2a4a",
   "metadata": {
    "id": "2c4d2a4a"
   },
   "source": [
    "# Project - Data Science\n",
    "![DS_steps.png](DS_steps.png)"
   ]
  },
  {
   "cell_type": "markdown",
   "id": "5ea71e33",
   "metadata": {
    "id": "5ea71e33"
   },
   "source": [
    "## Fullname (nickname): Niphon Chanlen (Bird)\n"
   ]
  },
  {
   "cell_type": "markdown",
   "id": "ebdddc20",
   "metadata": {
    "id": "ebdddc20"
   },
   "source": [
    "# Project Topic: IPST Online Teacher Professional Development about Buoancy: Did it work? Who succeeded and Who failed?"
   ]
  },
  {
   "cell_type": "markdown",
   "id": "72634ac4",
   "metadata": {
    "id": "72634ac4"
   },
   "source": [
    "---\n",
    "## Current Situation / Problem Statement\n",
    "\n",
    "IPST offered a trial self-pace online course about buoyancy concept. There were more than 1,100 teachers registered for the course but only 50% completed it. The questions arises about the effectiveness of the course in preparing teachers teaching the buoyancy concept and the factors affecting the course completion of the participants.\n",
    "\n",
    "\n",
    "\n",
    "\n",
    "\n"
   ]
  },
  {
   "cell_type": "markdown",
   "id": "e25a6d8b",
   "metadata": {
    "id": "e25a6d8b"
   },
   "source": [
    "## Objectives:\n",
    "This study aim to provide evidence about the effectiveness of the online course about buoyancy concept and identify factors that might affect the course completion of the participants. Recommendations will be provided to help the course instructors to improve the course design in order to maintain the retention and improve the completion rate of participants, especially at-risk teachers. "
   ]
  },
  {
   "cell_type": "markdown",
   "id": "ef56e2c7",
   "metadata": {
    "id": "ef56e2c7"
   },
   "source": [
    "## Hypothesis-driven Questions:\n",
    "\n",
    "1. Do teachers’ content knowledge and self-efficacy improve after the course completion?\n",
    "2. Do teachers' prior content knowledge, self-efficacy and demographic e.g. gender, education level, teaching level, teaching experience affect their completion of the course?\n",
    "\n",
    "\n"
   ]
  },
  {
   "cell_type": "markdown",
   "id": "b8fc8d22",
   "metadata": {
    "id": "b8fc8d22"
   },
   "source": [
    "## Dataset:\n",
    "There are 2 main datasets\n",
    "### 1. Teachers' background infomation: 'buoyancy_teacher_info.xlsx'\n",
    "      1.1 Username\n",
    "      1.2 EdBackground (educational background major)\n",
    "      1.3 Phys_major (has physics major?)\n",
    "      1.4 Teach_exp (number of years in teaching experience)\n",
    "      1.5 EdLevel (highest educational background recieved)\n",
    "      1.6 Teach_sub_gensci (teach general scinece: Yes/No)\n",
    "      1.7 ระดับชั้นที่สอน (grade level of teaching)\n",
    "      1.8 Teach_level (level of teaching)\n",
    "      1.9 M2_teacher (teach grade 8: Yes/No)) \n",
    "### 2. Teachers' test score : buoyancy_teacher_score.xlsx\n",
    "      2.1 Username\n",
    "      2.2 pretest_concept (pretest scores in buoyancy)\n",
    "      2.3 pre_selfefficacy (pretest scores in self efficacy questionnaire)\n",
    "      2.4 posttest_concept (posttest scores in buoyancy)\n",
    "      2.5 posttest_noitem  (number of submitted items in posttest)\n",
    "      2.5 post_selfefficacy (posttest scores in self efficacy questionnaire)"
   ]
  },
  {
   "cell_type": "markdown",
   "id": "cb63e79d",
   "metadata": {},
   "source": [
    "## Exploring the first question: Do teachers’ content knowledge and self-efficacy improve after the course completion?"
   ]
  },
  {
   "cell_type": "code",
   "execution_count": 218,
   "id": "VbKY46p4WoAg",
   "metadata": {
    "colab": {
     "base_uri": "https://localhost:8080/"
    },
    "id": "VbKY46p4WoAg",
    "outputId": "c48a8d75-f137-4219-8d30-a1cc94793f6f",
    "scrolled": true
   },
   "outputs": [],
   "source": [
    "import pandas as pd\n",
    "import numpy as np\n",
    "import matplotlib.pyplot as plt\n",
    "import seaborn as sns\n",
    "from scipy.stats import ttest_ind\n",
    "\n",
    "#import file, working with one database\n",
    "df_score = pd.read_excel('buoyancy_teacher_score.xlsx')\n"
   ]
  },
  {
   "cell_type": "markdown",
   "id": "93d5e6de",
   "metadata": {},
   "source": [
    "### Q1: Data Preparation (Data Cleaning)\n",
    "1. Explore dataset and check for null value\n",
    "2. Drop null values"
   ]
  },
  {
   "cell_type": "code",
   "execution_count": 219,
   "id": "1O9Zn5EfYMur",
   "metadata": {
    "colab": {
     "base_uri": "https://localhost:8080/"
    },
    "id": "1O9Zn5EfYMur",
    "outputId": "8b700e60-90c6-42fd-d5b3-528cea3e5e5d",
    "scrolled": false
   },
   "outputs": [
    {
     "name": "stdout",
     "output_type": "stream",
     "text": [
      "   Username  pretest_concept  posttest_noitem  posttest_concept  \\\n",
      "0         1              8.0              3.0               2.0   \n",
      "1         2              5.0              NaN              14.0   \n",
      "2         3              5.0              NaN               NaN   \n",
      "3         4              5.0              3.0               1.0   \n",
      "4         5              5.0             17.0              15.0   \n",
      "\n",
      "   pre_selfefficacy  post_selfefficacy  \n",
      "0              56.0                NaN  \n",
      "1              58.0               57.0  \n",
      "2              53.0                NaN  \n",
      "3              63.0                NaN  \n",
      "4              71.0               76.0  \n",
      "---------------------\n",
      "(696, 6)\n",
      "---------------------\n",
      "<class 'pandas.core.frame.DataFrame'>\n",
      "RangeIndex: 696 entries, 0 to 695\n",
      "Data columns (total 6 columns):\n",
      " #   Column             Non-Null Count  Dtype  \n",
      "---  ------             --------------  -----  \n",
      " 0   Username           696 non-null    int64  \n",
      " 1   pretest_concept    635 non-null    float64\n",
      " 2   posttest_noitem    555 non-null    float64\n",
      " 3   posttest_concept   572 non-null    float64\n",
      " 4   pre_selfefficacy   652 non-null    float64\n",
      " 5   post_selfefficacy  507 non-null    float64\n",
      "dtypes: float64(5), int64(1)\n",
      "memory usage: 32.8 KB\n",
      "None\n",
      "---------------------\n"
     ]
    },
    {
     "data": {
      "text/plain": [
       "Username               0\n",
       "pretest_concept       61\n",
       "posttest_noitem      141\n",
       "posttest_concept     124\n",
       "pre_selfefficacy      44\n",
       "post_selfefficacy    189\n",
       "dtype: int64"
      ]
     },
     "execution_count": 219,
     "metadata": {},
     "output_type": "execute_result"
    }
   ],
   "source": [
    "#Checking heading and null value\n",
    "print(df_score.head())\n",
    "print(\"---------------------\")\n",
    "print(df_score.shape)\n",
    "print(\"---------------------\")\n",
    "print(df_score.info())\n",
    "print(\"---------------------\")\n",
    "df_score.isnull().sum()"
   ]
  },
  {
   "cell_type": "code",
   "execution_count": 220,
   "id": "e06e8ca4",
   "metadata": {},
   "outputs": [],
   "source": [
    "df_score[\"Username\"]=df_score[\"Username\"].values.astype('object') #change datatype to object"
   ]
  },
  {
   "cell_type": "code",
   "execution_count": 221,
   "id": "bb25b1be",
   "metadata": {},
   "outputs": [],
   "source": [
    "df_score.dropna(subset=['pretest_concept','posttest_noitem','post_selfefficacy','pre_selfefficacy'], inplace=True) #drop null value"
   ]
  },
  {
   "cell_type": "markdown",
   "id": "810096a9",
   "metadata": {
    "id": "810096a9"
   },
   "source": [
    "### Q1 : Exploratory Data Analysis (EDA)"
   ]
  },
  {
   "cell_type": "code",
   "execution_count": null,
   "id": "6bd3a27d",
   "metadata": {},
   "outputs": [],
   "source": [
    "Procedures: \n",
    "1. exploring simple statistic and data distribution of content knowledge and self-efficacy scores\n",
    "2. computing correlation coefficient and plot correlation graph\n",
    "3. comparing mean scores between pre-test and post-test "
   ]
  },
  {
   "cell_type": "code",
   "execution_count": 222,
   "id": "02beb766",
   "metadata": {},
   "outputs": [
    {
     "data": {
      "text/html": [
       "<div>\n",
       "<style scoped>\n",
       "    .dataframe tbody tr th:only-of-type {\n",
       "        vertical-align: middle;\n",
       "    }\n",
       "\n",
       "    .dataframe tbody tr th {\n",
       "        vertical-align: top;\n",
       "    }\n",
       "\n",
       "    .dataframe thead th {\n",
       "        text-align: right;\n",
       "    }\n",
       "</style>\n",
       "<table border=\"1\" class=\"dataframe\">\n",
       "  <thead>\n",
       "    <tr style=\"text-align: right;\">\n",
       "      <th></th>\n",
       "      <th>pretest_concept</th>\n",
       "      <th>posttest_concept</th>\n",
       "      <th>pre_selfefficacy</th>\n",
       "      <th>post_selfefficacy</th>\n",
       "    </tr>\n",
       "  </thead>\n",
       "  <tbody>\n",
       "    <tr>\n",
       "      <th>pretest_concept</th>\n",
       "      <td>1.00</td>\n",
       "      <td>0.20</td>\n",
       "      <td>0.17</td>\n",
       "      <td>0.11</td>\n",
       "    </tr>\n",
       "    <tr>\n",
       "      <th>posttest_concept</th>\n",
       "      <td>0.20</td>\n",
       "      <td>1.00</td>\n",
       "      <td>0.15</td>\n",
       "      <td>0.20</td>\n",
       "    </tr>\n",
       "    <tr>\n",
       "      <th>pre_selfefficacy</th>\n",
       "      <td>0.17</td>\n",
       "      <td>0.15</td>\n",
       "      <td>1.00</td>\n",
       "      <td>0.56</td>\n",
       "    </tr>\n",
       "    <tr>\n",
       "      <th>post_selfefficacy</th>\n",
       "      <td>0.11</td>\n",
       "      <td>0.20</td>\n",
       "      <td>0.56</td>\n",
       "      <td>1.00</td>\n",
       "    </tr>\n",
       "  </tbody>\n",
       "</table>\n",
       "</div>"
      ],
      "text/plain": [
       "                   pretest_concept  posttest_concept  pre_selfefficacy  \\\n",
       "pretest_concept               1.00              0.20              0.17   \n",
       "posttest_concept              0.20              1.00              0.15   \n",
       "pre_selfefficacy              0.17              0.15              1.00   \n",
       "post_selfefficacy             0.11              0.20              0.56   \n",
       "\n",
       "                   post_selfefficacy  \n",
       "pretest_concept                 0.11  \n",
       "posttest_concept                0.20  \n",
       "pre_selfefficacy                0.56  \n",
       "post_selfefficacy               1.00  "
      ]
     },
     "execution_count": 222,
     "metadata": {},
     "output_type": "execute_result"
    }
   ],
   "source": [
    "#computing correlation coefficient \n",
    "features=list(['pretest_concept','posttest_concept','pre_selfefficacy','post_selfefficacy'])\n",
    "df_score[features].corr().round(2)"
   ]
  },
  {
   "cell_type": "code",
   "execution_count": 223,
   "id": "1781fcc1",
   "metadata": {},
   "outputs": [
    {
     "data": {
      "image/png": "[encoded data removed]",
      "text/plain": [
       "<Figure size 576x576 with 1 Axes>"
      ]
     },
     "metadata": {},
     "output_type": "display_data"
    }
   ],
   "source": [
    "#scatter plot showing medium correlation (r=0.56) between pre and post self efficacy scores\n",
    "df_score.plot(kind = 'scatter',figsize=(8,8), x = 'pre_selfefficacy', y = 'post_selfefficacy')\n",
    "plt.show()"
   ]
  },
  {
   "cell_type": "code",
   "execution_count": 224,
   "id": "b2fb3afe",
   "metadata": {
    "scrolled": true
   },
   "outputs": [
    {
     "name": "stdout",
     "output_type": "stream",
     "text": [
      "                 Pretest   Posttest\n",
      "Buoyancy        6.812227  13.759825\n",
      "Self Efficacy  63.436681  69.443231\n"
     ]
    }
   ],
   "source": [
    "#calculate and compare average scores of pre and post test\n",
    "A= df_score['pretest_concept'].mean()\n",
    "B= df_score['posttest_concept'].mean()\n",
    "C= df_score['pre_selfefficacy'].mean()\n",
    "D= df_score['post_selfefficacy'].mean()\n",
    "\n",
    "data = {\n",
    "\"Pretest\": [A, C],\n",
    "\"Posttest\": [B,D]\n",
    "}\n",
    "df_mean = pd.DataFrame(data, index = [\"Buoyancy\", \"Self Efficacy\"])\n",
    "print(df_mean)"
   ]
  },
  {
   "cell_type": "code",
   "execution_count": 225,
   "id": "76b1f4f5",
   "metadata": {},
   "outputs": [
    {
     "data": {
      "text/plain": [
       "Ttest_relResult(statistic=-39.568845019122485, pvalue=1.0301707138794765e-149)"
      ]
     },
     "execution_count": 225,
     "metadata": {},
     "output_type": "execute_result"
    }
   ],
   "source": [
    "#testing improvement of buoyancy concept scores using dependent sample t-test\n",
    "from scipy.stats import ttest_rel\n",
    "ttest_rel(df_score['pretest_concept'], df_score['posttest_concept'])"
   ]
  },
  {
   "cell_type": "code",
   "execution_count": null,
   "id": "ea22984f",
   "metadata": {},
   "outputs": [],
   "source": [
    "#pvalue less than 0.01 indicating significant improvement in buoyancy concept scores"
   ]
  },
  {
   "cell_type": "code",
   "execution_count": 226,
   "id": "7f83374f",
   "metadata": {},
   "outputs": [
    {
     "data": {
      "text/plain": [
       "Ttest_relResult(statistic=-18.851543041212896, pvalue=4.579897050695367e-59)"
      ]
     },
     "execution_count": 226,
     "metadata": {},
     "output_type": "execute_result"
    }
   ],
   "source": [
    "#testing improvement of self efficacy scores using dependent sample t-test\n",
    "ttest_rel(df_score['pre_selfefficacy'], df_score['post_selfefficacy']) "
   ]
  },
  {
   "cell_type": "code",
   "execution_count": null,
   "id": "52e140b4",
   "metadata": {},
   "outputs": [],
   "source": [
    "#pvalue less than 0.01 indicating significant improvement in bself efficacy scores"
   ]
  },
  {
   "cell_type": "code",
   "execution_count": 265,
   "id": "e45eb404",
   "metadata": {},
   "outputs": [
    {
     "data": {
      "image/png": "[encoded data removed]",
      "text/plain": [
       "<Figure size 720x720 with 2 Axes>"
      ]
     },
     "metadata": {},
     "output_type": "display_data"
    }
   ],
   "source": [
    "#visual representation of the improvement of the scores\n",
    "df_mean_tran = df_mean.transpose()\n",
    "ax = df_mean_tran.plot.bar(rot=0, subplots=True, figsize=(10,10))\n",
    "plt.show() "
   ]
  },
  {
   "cell_type": "markdown",
   "id": "c3dedacc",
   "metadata": {},
   "source": [
    "## Key Findings: Q1 Do teachers’ content knowledge and self-efficacy improve after the course completion?\n",
    "\n",
    "There is medium correlation between teachers' pre and post self efficacy.\n",
    "Dependent t-test suggests that both teachers' content knowledge and self efficacy significantly improve after completion of the professional development course.\n"
   ]
  },
  {
   "cell_type": "markdown",
   "id": "93e0d02b",
   "metadata": {},
   "source": [
    "# Exploring the second question:  Do teacher’s prior content knowledge, self-efficacy, and demogrphic e.g. gender, education level, teaching level, teaching experience affect their completion of the course?"
   ]
  },
  {
   "cell_type": "code",
   "execution_count": 288,
   "id": "ce4ee266",
   "metadata": {},
   "outputs": [],
   "source": [
    "#import files\n",
    "df_info = pd.read_excel('buoyancy_teacher_info.xlsx')\n",
    "df_score = pd.read_excel('buoyancy_teacher_score.xlsx')\n",
    "\n",
    "#merge two database by matched \"Username\"\n",
    "df = df_info.merge(df_score, how='left', on='Username')"
   ]
  },
  {
   "cell_type": "markdown",
   "id": "29252927",
   "metadata": {},
   "source": [
    "##  Q2 : Data Preparation (Data Cleaning)"
   ]
  },
  {
   "cell_type": "code",
   "execution_count": 289,
   "id": "2ab8e1cb",
   "metadata": {},
   "outputs": [],
   "source": [
    "#change type of Username data to string\n",
    "df[\"Username\"]=df[\"Username\"].values.astype('object')"
   ]
  },
  {
   "cell_type": "code",
   "execution_count": 290,
   "id": "d268b2f1",
   "metadata": {},
   "outputs": [],
   "source": [
    "#drop unwanted columns \n",
    "df.drop(['EdBackground_code','posttest_concept','post_selfefficacy','ระดับชั้นที่สอน'], axis=1, inplace=True)"
   ]
  },
  {
   "cell_type": "code",
   "execution_count": 291,
   "id": "e3ed22ea",
   "metadata": {},
   "outputs": [],
   "source": [
    "#change font from Thai to English\n",
    "df.replace(to_replace=\"มากกว่า 20\", value=\" More than 20\", inplace=True)"
   ]
  },
  {
   "cell_type": "code",
   "execution_count": 292,
   "id": "44199f1a",
   "metadata": {},
   "outputs": [],
   "source": [
    "#drop null values\n",
    "df.dropna(subset=['pretest_concept','posttest_noitem','Teach_exp','pre_selfefficacy'], inplace=True)"
   ]
  },
  {
   "cell_type": "markdown",
   "id": "d422a5fd",
   "metadata": {},
   "source": [
    "## Q2 : Exploratory Data Analysis (EDA)\n",
    "1. Checking simple statistic and data distribution.\n",
    "2. Grouping teachers into two groups (succeed and dropout) based on their course completion. \n",
    "3. Grouping teachers into two groups (Low and High) based on their pre buoyancy concept.\n",
    "4. Grouping teachers into two groups (Low and High) based on their pre self efficacy score.\n",
    "5. Preliminary looking at factors afftecting course completion."
   ]
  },
  {
   "cell_type": "markdown",
   "id": "46068fe6",
   "metadata": {
    "id": "46068fe6"
   },
   "source": [
    "#### Section 1: checking simple statistic and data distribution"
   ]
  },
  {
   "cell_type": "code",
   "execution_count": 293,
   "id": "ef16e2b6",
   "metadata": {
    "colab": {
     "base_uri": "https://localhost:8080/"
    },
    "id": "ef16e2b6",
    "outputId": "24d0e1e0-ba63-4d26-81ae-9389e36aa204"
   },
   "outputs": [
    {
     "name": "stdout",
     "output_type": "stream",
     "text": [
      "       Username  pretest_concept  posttest_noitem  pre_selfefficacy\n",
      "count    512.00           512.00           512.00            512.00\n",
      "mean     348.14             6.68            16.09             63.38\n",
      "std      200.09             3.08             3.05              6.45\n",
      "min        1.00             1.00             3.00             47.00\n",
      "25%      177.75             5.00            17.00             59.00\n",
      "50%      345.50             6.00            17.00             63.00\n",
      "75%      522.25             8.00            17.00             67.00\n",
      "max      696.00            16.00            17.00             84.00\n"
     ]
    }
   ],
   "source": [
    "#Exploring simple statistic and data distribution\n",
    "print(df.describe().round(2))"
   ]
  },
  {
   "cell_type": "code",
   "execution_count": 194,
   "id": "dHJ_SZ8oZk83",
   "metadata": {
    "colab": {
     "base_uri": "https://localhost:8080/",
     "height": 265
    },
    "id": "dHJ_SZ8oZk83",
    "outputId": "a8797d2c-a860-4627-ee85-8f97f0fb235a"
   },
   "outputs": [
    {
     "data": {
      "image/png": "[encoded data removed]",
      "text/plain": [
       "<Figure size 432x288 with 1 Axes>"
      ]
     },
     "metadata": {},
     "output_type": "display_data"
    }
   ],
   "source": [
    "#Checking data distribution using histrogram \n",
    "df['posttest_noitem'].plot(kind = 'hist')\n",
    "plt.show()"
   ]
  },
  {
   "cell_type": "code",
   "execution_count": 195,
   "id": "OgBt1VFiZmzP",
   "metadata": {
    "colab": {
     "base_uri": "https://localhost:8080/",
     "height": 265
    },
    "id": "OgBt1VFiZmzP",
    "outputId": "277f8b12-0e77-4fcc-82bc-2da46ec312a5"
   },
   "outputs": [
    {
     "data": {
      "image/png": "[encoded data removed]",
      "text/plain": [
       "<Figure size 432x288 with 1 Axes>"
      ]
     },
     "metadata": {},
     "output_type": "display_data"
    }
   ],
   "source": [
    "df['pretest_concept'].plot(kind = 'hist')\n",
    "plt.show()"
   ]
  },
  {
   "cell_type": "code",
   "execution_count": 196,
   "id": "jgwr_71qZpOe",
   "metadata": {
    "colab": {
     "base_uri": "https://localhost:8080/",
     "height": 265
    },
    "id": "jgwr_71qZpOe",
    "outputId": "40a45365-49ca-4a89-ae58-7b7150cb4351"
   },
   "outputs": [
    {
     "data": {
      "image/png": "[encoded data removed]",
      "text/plain": [
       "<Figure size 432x288 with 1 Axes>"
      ]
     },
     "metadata": {},
     "output_type": "display_data"
    }
   ],
   "source": [
    "df['pre_selfefficacy'].plot(kind = 'hist')\n",
    "plt.show()"
   ]
  },
  {
   "cell_type": "code",
   "execution_count": 294,
   "id": "4b33a152",
   "metadata": {
    "colab": {
     "base_uri": "https://localhost:8080/"
    },
    "id": "4b33a152",
    "outputId": "5403ada9-f79b-40a5-a11d-fd1366fe716d"
   },
   "outputs": [
    {
     "data": {
      "text/plain": [
       "Success\n",
       "succeed    463\n",
       "dropout     49\n",
       "dtype: int64"
      ]
     },
     "execution_count": 294,
     "metadata": {},
     "output_type": "execute_result"
    }
   ],
   "source": [
    "#Grouping teachers into two groups (succeed and dropout) based on their course completion.\n",
    "#succeed teachers completed all pre-tests and all 17 post test items in buoyancy while dropout teachers did not complete all 17 post test items\n",
    "#identify conditions in grouping \n",
    "SuccCondition = [\n",
    "    (df['posttest_noitem'] < 17),\n",
    "    (df['posttest_noitem'] == 17)\n",
    "]\n",
    "value = ['dropout','succeed'] #identify assigned value \n",
    "df['Success'] = np.select(SuccCondition,value) #apply condition to value\n",
    "df.value_counts('Success')"
   ]
  },
  {
   "cell_type": "code",
   "execution_count": 295,
   "id": "11dd5d89",
   "metadata": {
    "colab": {
     "base_uri": "https://localhost:8080/"
    },
    "id": "11dd5d89",
    "outputId": "69040378-a5f8-44ee-fcab-27e7b8c14948"
   },
   "outputs": [
    {
     "data": {
      "text/plain": [
       "Pre Test Level\n",
       "Low Pretest     306\n",
       "High Pretest    206\n",
       "dtype: int64"
      ]
     },
     "execution_count": 295,
     "metadata": {},
     "output_type": "execute_result"
    }
   ],
   "source": [
    "#Grouping teachers into two groups (Low and High) based on their pre buoyancy concept.\n",
    "#identify condition in grouping\n",
    "x= df['pretest_concept'].mean()\n",
    "PretestCondition = [\n",
    "    (df['pretest_concept'] < x),\n",
    "    (df['pretest_concept'] >= x)\n",
    "]\n",
    "value = ['Low Pretest','High Pretest'] #identify assigned value \n",
    "df['Pre Test Level'] = np.select(PretestCondition,value) #apply condition to value\n",
    "df.value_counts('Pre Test Level')"
   ]
  },
  {
   "cell_type": "code",
   "execution_count": 296,
   "id": "_G08fsaspmga",
   "metadata": {
    "colab": {
     "base_uri": "https://localhost:8080/"
    },
    "id": "_G08fsaspmga",
    "outputId": "a2b20984-5dc3-439f-fcd0-df77a1ad9980"
   },
   "outputs": [
    {
     "data": {
      "text/plain": [
       "Pre Self Efficacy Level\n",
       "Low SelfEff     266\n",
       "High SelfEff    246\n",
       "dtype: int64"
      ]
     },
     "execution_count": 296,
     "metadata": {},
     "output_type": "execute_result"
    }
   ],
   "source": [
    "#Grouping teachers into two groups (Low and High) based on their pre self efficacy score.\n",
    "#identify condition in grouping\n",
    "y= df['pre_selfefficacy'].mean()\n",
    "PreSelfEffCondition = [\n",
    "    (df['pre_selfefficacy'] < y),\n",
    "    (df['pre_selfefficacy'] >= y)\n",
    "]\n",
    "value = ['Low SelfEff','High SelfEff'] #identify assigned value \n",
    "df['Pre Self Efficacy Level'] = np.select(PreSelfEffCondition,value) #apply condition to value\n",
    "df.value_counts('Pre Self Efficacy Level')"
   ]
  },
  {
   "cell_type": "markdown",
   "id": "XapgbXlOOYtk",
   "metadata": {
    "id": "XapgbXlOOYtk"
   },
   "source": [
    "#### Preliminary looking at factors afftecing course completion."
   ]
  },
  {
   "cell_type": "code",
   "execution_count": 302,
   "id": "M3N86MQ3OWGl",
   "metadata": {
    "colab": {
     "base_uri": "https://localhost:8080/"
    },
    "id": "M3N86MQ3OWGl",
    "outputId": "044148c7-d8bf-4e9a-d82a-c4d78ee51e62"
   },
   "outputs": [
    {
     "name": "stdout",
     "output_type": "stream",
     "text": [
      "['Username', 'EdBackground', 'Phys_major', 'Teach_exp', 'EdLevel', 'Teach_sub_gensci', 'Teach_level', 'M2_teacher', 'pretest_concept', 'posttest_noitem', 'pre_selfefficacy', 'Success', 'Pre Test Level', 'Pre Self Efficacy Level']\n"
     ]
    }
   ],
   "source": [
    "#getting a list of all column names\n",
    "column_names = df.columns.values.tolist()\n",
    "print(column_names)"
   ]
  },
  {
   "cell_type": "code",
   "execution_count": 303,
   "id": "ky1Xow98OqS_",
   "metadata": {
    "colab": {
     "base_uri": "https://localhost:8080/"
    },
    "id": "ky1Xow98OqS_",
    "outputId": "626ad561-f2b7-4bb2-c06a-e41b7256f6c9"
   },
   "outputs": [
    {
     "name": "stdout",
     "output_type": "stream",
     "text": [
      "['EdBackground', 'Phys_major', 'Teach_exp', 'EdLevel', 'Teach_sub_gensci', 'Teach_level', 'M2_teacher', 'Pre Test Level', 'Pre Self Efficacy Level']\n"
     ]
    }
   ],
   "source": [
    "#identify selected column names that will be used in this analysis\n",
    "column_names = ['EdBackground', 'Phys_major', 'Teach_exp', 'EdLevel', 'Teach_sub_gensci', 'Teach_level', 'M2_teacher', 'Pre Test Level', 'Pre Self Efficacy Level']\n",
    "print(column_names)"
   ]
  },
  {
   "cell_type": "code",
   "execution_count": 305,
   "id": "HKxAYvCmPApZ",
   "metadata": {
    "colab": {
     "base_uri": "https://localhost:8080/",
     "height": 1000
    },
    "id": "HKxAYvCmPApZ",
    "outputId": "e4a1a9cf-1fff-400e-c83d-47abef9661e9"
   },
   "outputs": [
    {
     "name": "stdout",
     "output_type": "stream",
     "text": [
      "                      Username\n",
      "Success EdBackground          \n",
      "dropout Ed Sci other        21\n",
      "        Ed nonsci            7\n",
      "        Ed phys              2\n",
      "        Engineer             2\n",
      "        Non Sci              3\n",
      "        Sci other           14\n",
      "succeed Ed Sci other       209\n",
      "        Ed nonsci           61\n",
      "        Ed phys             13\n",
      "        Engineer             6\n",
      "        Non Sci              8\n",
      "        Sci Phys            17\n",
      "        Sci other          149\n",
      "                       Username\n",
      "Success EdBackground           \n",
      "dropout Ed Sci other  42.857143\n",
      "        Ed nonsci     14.285714\n",
      "        Ed phys        4.081633\n",
      "        Engineer       4.081633\n",
      "        Non Sci        6.122449\n",
      "        Sci other     28.571429\n",
      "succeed Ed Sci other  45.140389\n",
      "        Ed nonsci     13.174946\n",
      "        Ed phys        2.807775\n",
      "        Engineer       1.295896\n",
      "        Non Sci        1.727862\n",
      "        Sci Phys       3.671706\n",
      "        Sci other     32.181425\n",
      "['Ed Sci other' 'Ed nonsci' 'Ed phys' 'Engineer' 'Non Sci' 'Sci Phys'\n",
      " 'Sci other']\n"
     ]
    },
    {
     "data": {
      "image/png": "[encoded data removed]",
      "text/plain": [
       "<Figure size 576x576 with 1 Axes>"
      ]
     },
     "metadata": {},
     "output_type": "display_data"
    },
    {
     "name": "stdout",
     "output_type": "stream",
     "text": [
      "---------------------------\n",
      "---------------------------\n",
      "---------------------------\n",
      "                    Username\n",
      "Success Phys_major          \n",
      "dropout No                45\n",
      "        Yes                4\n",
      "succeed No               427\n",
      "        Yes               36\n",
      "                     Username\n",
      "Success Phys_major           \n",
      "dropout No          91.836735\n",
      "        Yes          8.163265\n",
      "succeed No          92.224622\n",
      "        Yes          7.775378\n",
      "['No' 'Yes']\n"
     ]
    },
    {
     "data": {
      "image/png": "[encoded data removed]",
      "text/plain": [
       "<Figure size 576x576 with 1 Axes>"
      ]
     },
     "metadata": {},
     "output_type": "display_data"
    },
    {
     "name": "stdout",
     "output_type": "stream",
     "text": [
      "---------------------------\n",
      "---------------------------\n",
      "---------------------------\n",
      "                       Username\n",
      "Success Teach_exp              \n",
      "dropout  More than 20         2\n",
      "        0-5                  20\n",
      "        11-15                 6\n",
      "        16-20                 4\n",
      "        6-10                 17\n",
      "succeed  More than 20        57\n",
      "        0-5                 177\n",
      "        11-15                58\n",
      "        16-20                42\n",
      "        6-10                129\n",
      "                        Username\n",
      "Success Teach_exp               \n",
      "dropout  More than 20   4.081633\n",
      "        0-5            40.816327\n",
      "        11-15          12.244898\n",
      "        16-20           8.163265\n",
      "        6-10           34.693878\n",
      "succeed  More than 20  12.311015\n",
      "        0-5            38.228942\n",
      "        11-15          12.526998\n",
      "        16-20           9.071274\n",
      "        6-10           27.861771\n",
      "[' More than 20' '0-5' '11-15' '16-20' '6-10']\n"
     ]
    },
    {
     "data": {
      "image/png": "[encoded data removed]",
      "text/plain": [
       "<Figure size 576x576 with 1 Axes>"
      ]
     },
     "metadata": {},
     "output_type": "display_data"
    },
    {
     "name": "stdout",
     "output_type": "stream",
     "text": [
      "---------------------------\n",
      "---------------------------\n",
      "---------------------------\n",
      "                   Username\n",
      "Success EdLevel            \n",
      "dropout Bachelor         34\n",
      "        Master           15\n",
      "succeed Bachelor        292\n",
      "        Master          165\n",
      "        Phd               5\n",
      "        other             1\n",
      "                    Username\n",
      "Success EdLevel             \n",
      "dropout Bachelor   69.387755\n",
      "        Master     30.612245\n",
      "succeed Bachelor   63.066955\n",
      "        Master     35.637149\n",
      "        Phd         1.079914\n",
      "        other       0.215983\n",
      "['Bachelor ' 'Master' 'Phd' 'other']\n"
     ]
    },
    {
     "data": {
      "image/png": "[encoded data removed]",
      "text/plain": [
       "<Figure size 576x576 with 1 Axes>"
      ]
     },
     "metadata": {},
     "output_type": "display_data"
    },
    {
     "name": "stdout",
     "output_type": "stream",
     "text": [
      "---------------------------\n",
      "---------------------------\n",
      "---------------------------\n",
      "                          Username\n",
      "Success Teach_sub_gensci          \n",
      "dropout No                       9\n",
      "        Yes                     40\n",
      "succeed No                      67\n",
      "        Yes                    396\n",
      "                           Username\n",
      "Success Teach_sub_gensci           \n",
      "dropout No                18.367347\n",
      "        Yes               81.632653\n",
      "succeed No                14.470842\n",
      "        Yes               85.529158\n",
      "['No' 'Yes']\n"
     ]
    },
    {
     "data": {
      "image/png": "[encoded data removed]",
      "text/plain": [
       "<Figure size 576x576 with 1 Axes>"
      ]
     },
     "metadata": {},
     "output_type": "display_data"
    },
    {
     "name": "stdout",
     "output_type": "stream",
     "text": [
      "---------------------------\n",
      "---------------------------\n",
      "---------------------------\n",
      "                         Username\n",
      "Success Teach_level              \n",
      "dropout Other                   4\n",
      "        Primary                17\n",
      "        lower secondary        28\n",
      "succeed Other                  62\n",
      "        Primary               114\n",
      "        lower secondary       287\n",
      "                          Username\n",
      "Success Teach_level               \n",
      "dropout Other             8.163265\n",
      "        Primary          34.693878\n",
      "        lower secondary  57.142857\n",
      "succeed Other            13.390929\n",
      "        Primary          24.622030\n",
      "        lower secondary  61.987041\n",
      "['Other' 'Primary' 'lower secondary']\n"
     ]
    },
    {
     "data": {
      "image/png": "[encoded data removed]",
      "text/plain": [
       "<Figure size 576x576 with 1 Axes>"
      ]
     },
     "metadata": {},
     "output_type": "display_data"
    },
    {
     "name": "stdout",
     "output_type": "stream",
     "text": [
      "---------------------------\n",
      "---------------------------\n",
      "---------------------------\n",
      "                    Username\n",
      "Success M2_teacher          \n",
      "dropout No                33\n",
      "        Yes               16\n",
      "succeed No               275\n",
      "        Yes              188\n",
      "                     Username\n",
      "Success M2_teacher           \n",
      "dropout No          67.346939\n",
      "        Yes         32.653061\n",
      "succeed No          59.395248\n",
      "        Yes         40.604752\n",
      "['No' 'Yes']\n"
     ]
    },
    {
     "data": {
      "image/png": "[encoded data removed]",
      "text/plain": [
       "<Figure size 576x576 with 1 Axes>"
      ]
     },
     "metadata": {},
     "output_type": "display_data"
    },
    {
     "name": "stdout",
     "output_type": "stream",
     "text": [
      "---------------------------\n",
      "---------------------------\n",
      "---------------------------\n",
      "                        Username\n",
      "Success Pre Test Level          \n",
      "dropout High Pretest          15\n",
      "        Low Pretest           34\n",
      "succeed High Pretest         191\n",
      "        Low Pretest          272\n",
      "                         Username\n",
      "Success Pre Test Level           \n",
      "dropout High Pretest    30.612245\n",
      "        Low Pretest     69.387755\n",
      "succeed High Pretest    41.252700\n",
      "        Low Pretest     58.747300\n",
      "['High Pretest' 'Low Pretest']\n"
     ]
    },
    {
     "data": {
      "image/png": "[encoded data removed]",
      "text/plain": [
       "<Figure size 576x576 with 1 Axes>"
      ]
     },
     "metadata": {},
     "output_type": "display_data"
    },
    {
     "name": "stdout",
     "output_type": "stream",
     "text": [
      "---------------------------\n",
      "---------------------------\n",
      "---------------------------\n",
      "                                 Username\n",
      "Success Pre Self Efficacy Level          \n",
      "dropout High SelfEff                   23\n",
      "        Low SelfEff                    26\n",
      "succeed High SelfEff                  223\n",
      "        Low SelfEff                   240\n",
      "                                  Username\n",
      "Success Pre Self Efficacy Level           \n",
      "dropout High SelfEff             46.938776\n",
      "        Low SelfEff              53.061224\n",
      "succeed High SelfEff             48.164147\n",
      "        Low SelfEff              51.835853\n",
      "['High SelfEff' 'Low SelfEff']\n"
     ]
    },
    {
     "data": {
      "image/png": "[encoded data removed]",
      "text/plain": [
       "<Figure size 576x576 with 1 Axes>"
      ]
     },
     "metadata": {},
     "output_type": "display_data"
    },
    {
     "name": "stdout",
     "output_type": "stream",
     "text": [
      "---------------------------\n",
      "---------------------------\n",
      "---------------------------\n"
     ]
    }
   ],
   "source": [
    "#using for loop to analyse the same process with all item in column_names\n",
    "for items in column_names:\n",
    "  df2 = df.groupby(['Success', items]).agg({'Username': 'count'}) #group by success and interested variable (each column name in items) then count number of teacher\n",
    "  print(df2)\n",
    "  df3 = df2.groupby(level=0).apply(lambda x:100 * x / float(x.sum())) #convert number of teacher into percentage\n",
    "  print(df3)\n",
    "  a = df[items].unique()  #getting a list of unique values in each items\n",
    "  a.sort()\n",
    "  print(a)\n",
    "  plt.style.use('ggplot')\n",
    "    \n",
    "  df3.unstack().plot(kind='bar',stacked=True,figsize=(8,8))   #plot a stack bar graph\n",
    "  for unique_values in a:  #create legend from a list of unique values in each items\n",
    "    plt.legend(a)\n",
    "    \n",
    "  plt.title(\"% by \" + items)\n",
    "  plt.ylabel(\"percent\")\n",
    "  plt.show()\n",
    "  print(\"---------------------------\")\n",
    "  print(\"---------------------------\")\n",
    "  print(\"---------------------------\")"
   ]
  },
  {
   "cell_type": "markdown",
   "id": "bd0fd694",
   "metadata": {
    "id": "bd0fd694"
   },
   "source": [
    "## Key Findings: Q2 Do teacher’s prior content knowledge, self-efficacy and demogrphic e.g. gender, education level, teaching level, teaching experience affect their completion of the course?"
   ]
  },
  {
   "cell_type": "markdown",
   "id": "a4ab9073",
   "metadata": {
    "id": "a4ab9073"
   },
   "source": [
    "\n",
    "1. There seems to be no difference in percentages of teachers who dropped out and completed the course aggregated by their physics major or their self efficacy level.\n",
    "2. These variables; Educational background, teaching experience, Highest education level, teaching subject, teaching level, and pre-test score seem to have impact on whether the participants will complete the course. \n",
    "\n",
    "        2.1 Teachers who have educational background in science related fields such as environment science, logistic tend not to drop out but teachers who has background in non-science such as Thai language dropped out more.\n",
    "        2.2 Teachers who have 6-10 years teaching experience seemed to drop out more.\n",
    "        2.3 Teachers who has higher degree in education tend not to drop out.\n",
    "        2.4 General science subject teachers, especially teachers who are teaching in 8th grade or lower secondary school tend to not drop out comparing to teachers who teaches in primary school level or teaches non-science subjects.\n",
    "        2.5 Teachers who has higher scores in their pre-test buoyancy concept tend not to drop out comparing to teachers who has lower scores.\n"
   ]
  },
  {
   "cell_type": "markdown",
   "id": "DTTnzmGjUjuv",
   "metadata": {
    "id": "DTTnzmGjUjuv"
   },
   "source": [
    "# recommendation"
   ]
  },
  {
   "attachments": {},
   "cell_type": "markdown",
   "id": "31c9acd3",
   "metadata": {
    "id": "31c9acd3"
   },
   "source": [
    "The course is effective in significantly improving teachers' understanding about buoyancy concept and self efficacy. However, there seems to be indicatations implying that the online professional development is difficult to some group of teachers, thus we reccommend that \n",
    "1. Clearly specify and highlight the purposes and intended audiences of the course.\n",
    "2. Use pre-test scores of the buoyancy concept as prerequisite. Only teachers who pass the cut scores can attend this course.\n",
    "3. Improve scaffolding structure of the course \n",
    "4. Develop an alternative course  with simpler concept, more scaffolding and more helps during lesson \n",
    "5. Gather more evidences (time spending, number of attempt)\n"
   ]
  }
 ],
 "metadata": {
  "colab": {
   "collapsed_sections": [
    "hmEFKqbLpwmZ"
   ],
   "name": "Project_Template_PYT06 Niphon Chanlen.ipynb",
   "provenance": []
  },
  "kernelspec": {
   "display_name": "Python 3 (ipykernel)",
   "language": "python",
   "name": "python3"
  },
  "language_info": {
   "codemirror_mode": {
    "name": "ipython",
    "version": 3
   },
   "file_extension": ".py",
   "mimetype": "text/x-python",
   "name": "python",
   "nbconvert_exporter": "python",
   "pygments_lexer": "ipython3",
   "version": "3.9.12"
  },
  "varInspector": {
   "cols": {
    "lenName": 16,
    "lenType": 16,
    "lenVar": 40
   },
   "kernels_config": {
    "python": {
     "delete_cmd_postfix": "",
     "delete_cmd_prefix": "del ",
     "library": "var_list.py",
     "varRefreshCmd": "print(var_dic_list())"
    },
    "r": {
     "delete_cmd_postfix": ") ",
     "delete_cmd_prefix": "rm(",
     "library": "var_list.r",
     "varRefreshCmd": "cat(var_dic_list()) "
    }
   },
   "types_to_exclude": [
    "module",
    "function",
    "builtin_function_or_method",
    "instance",
    "_Feature"
   ],
   "window_display": false
  }
 },
 "nbformat": 4,
 "nbformat_minor": 5
}
